{
 "cells": [
  {
   "cell_type": "code",
   "execution_count": 1,
   "metadata": {
    "colab": {
     "base_uri": "https://localhost:8080/"
    },
    "executionInfo": {
     "elapsed": 4937,
     "status": "ok",
     "timestamp": 1655777953895,
     "user": {
      "displayName": "Joao Pedro Souza",
      "userId": "08820867277135559743"
     },
     "user_tz": 180
    },
    "id": "doc7i-pUzEjx",
    "outputId": "937cbcb8-87dc-48f1-a36e-6252b8a0b3bc"
   },
   "outputs": [
    {
     "name": "stdout",
     "output_type": "stream",
     "text": [
      "Looking in indexes: https://pypi.org/simple, https://us-python.pkg.dev/colab-wheels/public/simple/\n",
      "Collecting unidecode\n",
      "  Downloading Unidecode-1.3.4-py3-none-any.whl (235 kB)\n",
      "\u001b[K     |████████████████████████████████| 235 kB 13.6 MB/s \n",
      "\u001b[?25hInstalling collected packages: unidecode\n",
      "Successfully installed unidecode-1.3.4\n"
     ]
    }
   ],
   "source": [
    "!pip install unidecode"
   ]
  },
  {
   "cell_type": "code",
   "execution_count": 2,
   "metadata": {
    "colab": {
     "base_uri": "https://localhost:8080/"
    },
    "executionInfo": {
     "elapsed": 31390,
     "status": "ok",
     "timestamp": 1655777985276,
     "user": {
      "displayName": "Joao Pedro Souza",
      "userId": "08820867277135559743"
     },
     "user_tz": 180
    },
    "id": "Ee8EbTQhxUy3",
    "outputId": "c917fda9-1cd3-4e73-8a4a-9fa1ee4e8b0b"
   },
   "outputs": [
    {
     "name": "stdout",
     "output_type": "stream",
     "text": [
      "Mounted at /content/drive\n"
     ]
    }
   ],
   "source": [
    "from google.colab import drive\n",
    "drive.mount('/content/drive')"
   ]
  },
  {
   "cell_type": "code",
   "execution_count": 3,
   "metadata": {
    "executionInfo": {
     "elapsed": 1828,
     "status": "ok",
     "timestamp": 1655777987092,
     "user": {
      "displayName": "Joao Pedro Souza",
      "userId": "08820867277135559743"
     },
     "user_tz": 180
    },
    "id": "ViJOICIXxYQd"
   },
   "outputs": [],
   "source": [
    "import scipy.sparse as sp\n",
    "import nltk\n",
    "import numpy as np\n",
    "import pandas as pd\n",
    "import json\n",
    "import unidecode\n",
    "import joblib\n",
    "from sklearn.ensemble import RandomForestClassifier\n",
    "from sklearn.pipeline import Pipeline\n",
    "from sklearn.metrics import cohen_kappa_score, roc_auc_score, accuracy_score, f1_score, precision_recall_fscore_support, classification_report, multilabel_confusion_matrix\n",
    "from sklearn.model_selection import GridSearchCV, train_test_split\n",
    "from sklearn.multioutput import MultiOutputClassifier, ClassifierChain\n",
    "from sklearn.preprocessing import MultiLabelBinarizer\n",
    "from nltk.corpus import stopwords\n",
    "from sklearn.neighbors import RadiusNeighborsClassifier\n",
    "from sklearn.feature_extraction.text import TfidfTransformer, TfidfVectorizer"
   ]
  },
  {
   "cell_type": "code",
   "execution_count": 4,
   "metadata": {
    "colab": {
     "base_uri": "https://localhost:8080/"
    },
    "executionInfo": {
     "elapsed": 13,
     "status": "ok",
     "timestamp": 1655777987093,
     "user": {
      "displayName": "Joao Pedro Souza",
      "userId": "08820867277135559743"
     },
     "user_tz": 180
    },
    "id": "ueAshjjty3xY",
    "outputId": "e9ca825c-5511-4e80-dbd9-67fc35e62da5"
   },
   "outputs": [
    {
     "name": "stderr",
     "output_type": "stream",
     "text": [
      "[nltk_data] Downloading package rslp to /root/nltk_data...\n",
      "[nltk_data]   Unzipping stemmers/rslp.zip.\n",
      "[nltk_data] Downloading package stopwords to /root/nltk_data...\n",
      "[nltk_data]   Unzipping corpora/stopwords.zip.\n"
     ]
    }
   ],
   "source": [
    "nltk.download(\"rslp\")\n",
    "nltk.download('stopwords')\n",
    "stemmer = nltk.stem.RSLPStemmer()"
   ]
  },
  {
   "cell_type": "code",
   "execution_count": 5,
   "metadata": {
    "executionInfo": {
     "elapsed": 9,
     "status": "ok",
     "timestamp": 1655777987093,
     "user": {
      "displayName": "Joao Pedro Souza",
      "userId": "08820867277135559743"
     },
     "user_tz": 180
    },
    "id": "JIk6SQq6y_C6"
   },
   "outputs": [],
   "source": [
    "stop = np.unique([unidecode.unidecode(stemmer.stem(w)) for w in stopwords.words('portuguese')])"
   ]
  },
  {
   "cell_type": "code",
   "execution_count": 11,
   "metadata": {
    "executionInfo": {
     "elapsed": 1617,
     "status": "ok",
     "timestamp": 1655778090533,
     "user": {
      "displayName": "Joao Pedro Souza",
      "userId": "08820867277135559743"
     },
     "user_tz": 180
    },
    "id": "v4fEmiY_zKIO"
   },
   "outputs": [],
   "source": [
    "f = open(\"/content/drive/MyDrive/Trabalho final BMT/tfidf/idf_stopAndStem.txt\", \"r\")\n",
    "idfs = np.loadtxt(f)\n",
    "f.close()\n",
    "# subclass TfidfVectorizer\n",
    "class MyVectorizer(TfidfVectorizer):\n",
    "    # plug our pre-computed IDFs\n",
    "    TfidfVectorizer.idf_ = idfs\n",
    "\n",
    "# instantiate vectorizer\n",
    "vectorizer = MyVectorizer(norm=\"l1\", smooth_idf = True, ngram_range=(1, 1), use_idf=True, stop_words=stop.tolist())\n",
    "\n",
    "# plug _tfidf._idf_diag\n",
    "vectorizer._tfidf._idf_diag = sp.spdiags(idfs,\n",
    "                                         diags = 0,\n",
    "                                         m = len(idfs),\n",
    "                                         n = len(idfs))\n",
    "vectorizer.vocabulary_ = json.load(open('/content/drive/MyDrive/Trabalho final BMT/tfidf/vocabulary_stopAndStem.json', mode = 'r'))"
   ]
  },
  {
   "cell_type": "code",
   "execution_count": 15,
   "metadata": {
    "executionInfo": {
     "elapsed": 8454,
     "status": "ok",
     "timestamp": 1655778120319,
     "user": {
      "displayName": "Joao Pedro Souza",
      "userId": "08820867277135559743"
     },
     "user_tz": 180
    },
    "id": "K9qpgBAQzM1S"
   },
   "outputs": [],
   "source": [
    "df = pd.read_csv(\"/content/drive/MyDrive/Trabalho final BMT/Legendas/legenda_categoria.csv\", converters={'y': eval})"
   ]
  },
  {
   "cell_type": "code",
   "execution_count": 16,
   "metadata": {
    "executionInfo": {
     "elapsed": 47,
     "status": "ok",
     "timestamp": 1655778120327,
     "user": {
      "displayName": "Joao Pedro Souza",
      "userId": "08820867277135559743"
     },
     "user_tz": 180
    },
    "id": "FKd6CuYXzXdT"
   },
   "outputs": [],
   "source": [
    "mlb = MultiLabelBinarizer(sparse_output=True)"
   ]
  },
  {
   "cell_type": "code",
   "execution_count": 17,
   "metadata": {
    "executionInfo": {
     "elapsed": 26,
     "status": "ok",
     "timestamp": 1655778120329,
     "user": {
      "displayName": "Joao Pedro Souza",
      "userId": "08820867277135559743"
     },
     "user_tz": 180
    },
    "id": "QCQ8Z2clzY9A"
   },
   "outputs": [],
   "source": [
    "df = df.join(\n",
    "            pd.DataFrame.sparse.from_spmatrix(\n",
    "                mlb.fit_transform(df.pop('y').tolist()),\n",
    "                index=df.index,\n",
    "                columns=mlb.classes_))"
   ]
  },
  {
   "cell_type": "code",
   "execution_count": null,
   "metadata": {
    "colab": {
     "base_uri": "https://localhost:8080/",
     "height": 341
    },
    "executionInfo": {
     "elapsed": 784,
     "status": "ok",
     "timestamp": 1655747463983,
     "user": {
      "displayName": "Joao Pedro Souza",
      "userId": "08820867277135559743"
     },
     "user_tz": 180
    },
    "id": "ECKOV-JKLIRG",
    "outputId": "9838a88b-6145-419b-da40-2859bfb03b04"
   },
   "outputs": [
    {
     "data": {
      "text/plain": [
       "<matplotlib.axes._subplots.AxesSubplot at 0x7eff476f91d0>"
      ]
     },
     "execution_count": 12,
     "metadata": {},
     "output_type": "execute_result"
    },
    {
     "data": {
      "image/png": "[encoded data removed]",
      "text/plain": [
       "<Figure size 432x288 with 1 Axes>"
      ]
     },
     "metadata": {
      "needs_background": "light"
     },
     "output_type": "display_data"
    }
   ],
   "source": [
    "df[df.columns[2:]].sum().plot(kind='bar')"
   ]
  },
  {
   "cell_type": "code",
   "execution_count": null,
   "metadata": {
    "colab": {
     "base_uri": "https://localhost:8080/",
     "height": 934
    },
    "executionInfo": {
     "elapsed": 665,
     "status": "ok",
     "timestamp": 1655739883564,
     "user": {
      "displayName": "Joao Pedro Souza",
      "userId": "08820867277135559743"
     },
     "user_tz": 180
    },
    "id": "iP3WlNgHMaDQ",
    "outputId": "9406e801-a94a-4b82-df94-675ec2c45e6a"
   },
   "outputs": [
    {
     "data": {
      "text/html": [
       "<style type=\"text/css\">\n",
       "#T_00046_row0_col0, #T_00046_row1_col1, #T_00046_row2_col2, #T_00046_row3_col3, #T_00046_row4_col4, #T_00046_row5_col5, #T_00046_row6_col6, #T_00046_row7_col7, #T_00046_row8_col8, #T_00046_row9_col9, #T_00046_row10_col10, #T_00046_row11_col11, #T_00046_row12_col12, #T_00046_row13_col13, #T_00046_row14_col14, #T_00046_row15_col15, #T_00046_row16_col16, #T_00046_row17_col17, #T_00046_row18_col18, #T_00046_row19_col19, #T_00046_row20_col20, #T_00046_row21_col21, #T_00046_row22_col22, #T_00046_row23_col23, #T_00046_row24_col24, #T_00046_row25_col25, #T_00046_row26_col26 {\n",
       "  background-color: #b40426;\n",
       "  color: #f1f1f1;\n",
       "}\n",
       "#T_00046_row0_col1, #T_00046_row2_col11, #T_00046_row4_col1, #T_00046_row4_col6, #T_00046_row7_col4, #T_00046_row7_col19, #T_00046_row10_col0, #T_00046_row11_col19, #T_00046_row11_col20, #T_00046_row11_col24, #T_00046_row15_col13, #T_00046_row18_col19, #T_00046_row18_col20, #T_00046_row18_col24, #T_00046_row22_col13, #T_00046_row24_col0, #T_00046_row25_col20, #T_00046_row26_col6, #T_00046_row26_col10 {\n",
       "  background-color: #6180e9;\n",
       "  color: #f1f1f1;\n",
       "}\n",
       "#T_00046_row0_col2, #T_00046_row0_col19, #T_00046_row0_col24, #T_00046_row11_col6, #T_00046_row14_col2, #T_00046_row15_col9, #T_00046_row16_col0, #T_00046_row17_col12, #T_00046_row18_col6, #T_00046_row19_col20, #T_00046_row20_col19, #T_00046_row25_col6 {\n",
       "  background-color: #5d7ce6;\n",
       "  color: #f1f1f1;\n",
       "}\n",
       "#T_00046_row0_col3, #T_00046_row6_col1, #T_00046_row14_col3 {\n",
       "  background-color: #82a6fb;\n",
       "  color: #f1f1f1;\n",
       "}\n",
       "#T_00046_row0_col4, #T_00046_row3_col12, #T_00046_row7_col21, #T_00046_row9_col22 {\n",
       "  background-color: #4961d2;\n",
       "  color: #f1f1f1;\n",
       "}\n",
       "#T_00046_row0_col5, #T_00046_row4_col5 {\n",
       "  background-color: #90b2fe;\n",
       "  color: #000000;\n",
       "}\n",
       "#T_00046_row0_col6, #T_00046_row0_col7, #T_00046_row1_col11, #T_00046_row3_col10, #T_00046_row3_col18, #T_00046_row5_col9, #T_00046_row13_col11, #T_00046_row13_col18, #T_00046_row19_col11, #T_00046_row19_col13, #T_00046_row19_col18, #T_00046_row20_col10 {\n",
       "  background-color: #5572df;\n",
       "  color: #f1f1f1;\n",
       "}\n",
       "#T_00046_row0_col8, #T_00046_row13_col20, #T_00046_row17_col16 {\n",
       "  background-color: #7396f5;\n",
       "  color: #f1f1f1;\n",
       "}\n",
       "#T_00046_row0_col9, #T_00046_row0_col14, #T_00046_row8_col26, #T_00046_row11_col4, #T_00046_row15_col4, #T_00046_row18_col4, #T_00046_row20_col6, #T_00046_row25_col4, #T_00046_row26_col4 {\n",
       "  background-color: #4b64d5;\n",
       "  color: #f1f1f1;\n",
       "}\n",
       "#T_00046_row0_col10, #T_00046_row0_col13, #T_00046_row1_col0, #T_00046_row4_col20, #T_00046_row7_col11, #T_00046_row7_col18, #T_00046_row9_col13, #T_00046_row12_col24, #T_00046_row14_col7, #T_00046_row14_col13, #T_00046_row15_col11, #T_00046_row15_col18, #T_00046_row19_col1, #T_00046_row22_col11, #T_00046_row22_col18, #T_00046_row25_col11, #T_00046_row25_col12, #T_00046_row25_col18, #T_00046_row26_col11, #T_00046_row26_col18 {\n",
       "  background-color: #5a78e4;\n",
       "  color: #f1f1f1;\n",
       "}\n",
       "#T_00046_row0_col11, #T_00046_row0_col18, #T_00046_row2_col18, #T_00046_row4_col10, #T_00046_row4_col11, #T_00046_row4_col13, #T_00046_row5_col0, #T_00046_row9_col11, #T_00046_row9_col18, #T_00046_row14_col10, #T_00046_row19_col2 {\n",
       "  background-color: #5977e3;\n",
       "  color: #f1f1f1;\n",
       "}\n",
       "#T_00046_row0_col12, #T_00046_row1_col19, #T_00046_row2_col7, #T_00046_row5_col22, #T_00046_row6_col11, #T_00046_row6_col18, #T_00046_row9_col12, #T_00046_row9_col14, #T_00046_row11_col9, #T_00046_row12_col25, #T_00046_row14_col9, #T_00046_row14_col12, #T_00046_row17_col4, #T_00046_row18_col9, #T_00046_row21_col4, #T_00046_row23_col4, #T_00046_row24_col10, #T_00046_row25_col9, #T_00046_row25_col14 {\n",
       "  background-color: #4e68d8;\n",
       "  color: #f1f1f1;\n",
       "}\n",
       "#T_00046_row0_col15, #T_00046_row0_col26, #T_00046_row3_col23, #T_00046_row4_col15, #T_00046_row5_col16, #T_00046_row6_col4, #T_00046_row7_col26, #T_00046_row10_col14, #T_00046_row10_col23, #T_00046_row11_col22, #T_00046_row11_col26, #T_00046_row12_col15, #T_00046_row13_col23, #T_00046_row15_col22, #T_00046_row16_col2, #T_00046_row18_col22, #T_00046_row18_col26, #T_00046_row19_col23, #T_00046_row20_col23, #T_00046_row24_col23, #T_00046_row24_col26, #T_00046_row25_col22, #T_00046_row25_col26, #T_00046_row26_col22 {\n",
       "  background-color: #4358cb;\n",
       "  color: #f1f1f1;\n",
       "}\n",
       "#T_00046_row0_col16, #T_00046_row1_col10, #T_00046_row7_col2, #T_00046_row7_col12, #T_00046_row9_col16, #T_00046_row14_col16, #T_00046_row15_col24, #T_00046_row19_col0, #T_00046_row22_col20, #T_00046_row22_col24, #T_00046_row23_col13 {\n",
       "  background-color: #6384eb;\n",
       "  color: #f1f1f1;\n",
       "}\n",
       "#T_00046_row0_col17, #T_00046_row0_col21, #T_00046_row1_col22, #T_00046_row1_col26, #T_00046_row2_col25, #T_00046_row3_col17, #T_00046_row3_col21, #T_00046_row4_col17, #T_00046_row4_col21, #T_00046_row9_col17, #T_00046_row9_col21, #T_00046_row10_col6, #T_00046_row10_col22, #T_00046_row10_col26, #T_00046_row11_col17, #T_00046_row11_col21, #T_00046_row12_col21, #T_00046_row14_col17, #T_00046_row15_col17, #T_00046_row15_col21, #T_00046_row18_col17, #T_00046_row18_col21, #T_00046_row19_col6, #T_00046_row20_col22, #T_00046_row21_col17, #T_00046_row22_col17, #T_00046_row22_col21, #T_00046_row23_col17, #T_00046_row23_col21, #T_00046_row24_col22, #T_00046_row25_col17, #T_00046_row25_col21, #T_00046_row26_col17, #T_00046_row26_col21 {\n",
       "  background-color: #3e51c5;\n",
       "  color: #f1f1f1;\n",
       "}\n",
       "#T_00046_row0_col20, #T_00046_row9_col20, #T_00046_row9_col24, #T_00046_row10_col16, #T_00046_row12_col20, #T_00046_row14_col20, #T_00046_row14_col24, #T_00046_row17_col11, #T_00046_row17_col18, #T_00046_row19_col12, #T_00046_row19_col16, #T_00046_row21_col11, #T_00046_row21_col18, #T_00046_row23_col11, #T_00046_row23_col18 {\n",
       "  background-color: #5b7ae5;\n",
       "  color: #f1f1f1;\n",
       "}\n",
       "#T_00046_row0_col22, #T_00046_row1_col9, #T_00046_row1_col23, #T_00046_row2_col23, #T_00046_row3_col25, #T_00046_row4_col26, #T_00046_row9_col26, #T_00046_row12_col26, #T_00046_row13_col4, #T_00046_row13_col25, #T_00046_row14_col22, #T_00046_row14_col26, #T_00046_row16_col23 {\n",
       "  background-color: #4257c9;\n",
       "  color: #f1f1f1;\n",
       "}\n",
       "#T_00046_row0_col23, #T_00046_row1_col13, #T_00046_row2_col13, #T_00046_row3_col4, #T_00046_row4_col23, #T_00046_row4_col25, #T_00046_row5_col2, #T_00046_row7_col15, #T_00046_row7_col23, #T_00046_row9_col23, #T_00046_row10_col12, #T_00046_row11_col15, #T_00046_row11_col23, #T_00046_row12_col23, #T_00046_row14_col23, #T_00046_row15_col26, #T_00046_row17_col22, #T_00046_row18_col15, #T_00046_row18_col23, #T_00046_row20_col14, #T_00046_row21_col22, #T_00046_row21_col26, #T_00046_row22_col15, #T_00046_row22_col26, #T_00046_row23_col22, #T_00046_row23_col26, #T_00046_row24_col9, #T_00046_row24_col12, #T_00046_row24_col14, #T_00046_row24_col25, #T_00046_row25_col15, #T_00046_row25_col23, #T_00046_row26_col15 {\n",
       "  background-color: #445acc;\n",
       "  color: #f1f1f1;\n",
       "}\n",
       "#T_00046_row0_col25, #T_00046_row3_col6, #T_00046_row9_col25, #T_00046_row10_col15, #T_00046_row13_col9, #T_00046_row13_col12, #T_00046_row13_col14, #T_00046_row14_col21, #T_00046_row14_col25, #T_00046_row15_col23, #T_00046_row17_col15, #T_00046_row17_col23, #T_00046_row17_col26, #T_00046_row19_col25, #T_00046_row20_col9, #T_00046_row21_col15, #T_00046_row21_col23, #T_00046_row22_col23, #T_00046_row23_col15, #T_00046_row26_col23 {\n",
       "  background-color: #455cce;\n",
       "  color: #f1f1f1;\n",
       "}\n",
       "#T_00046_row1_col2 {\n",
       "  background-color: #dbdcde;\n",
       "  color: #000000;\n",
       "}\n",
       "#T_00046_row1_col3, #T_00046_row12_col4 {\n",
       "  background-color: #b1cbfc;\n",
       "  color: #000000;\n",
       "}\n",
       "#T_00046_row1_col4, #T_00046_row1_col16, #T_00046_row2_col6, #T_00046_row5_col4, #T_00046_row5_col6, #T_00046_row5_col8, #T_00046_row5_col12, #T_00046_row5_col20, #T_00046_row5_col24, #T_00046_row6_col9, #T_00046_row6_col10, #T_00046_row6_col12, #T_00046_row6_col13, #T_00046_row6_col14, #T_00046_row6_col15, #T_00046_row6_col19, #T_00046_row6_col22, #T_00046_row6_col25, #T_00046_row6_col26, #T_00046_row8_col0, #T_00046_row8_col2, #T_00046_row8_col3, #T_00046_row8_col5, #T_00046_row8_col7, #T_00046_row8_col11, #T_00046_row8_col17, #T_00046_row8_col18, #T_00046_row8_col21, #T_00046_row8_col23, #T_00046_row16_col1 {\n",
       "  background-color: #3b4cc0;\n",
       "  color: #f1f1f1;\n",
       "}\n",
       "#T_00046_row1_col5, #T_00046_row13_col3, #T_00046_row19_col3, #T_00046_row20_col5 {\n",
       "  background-color: #799cf8;\n",
       "  color: #f1f1f1;\n",
       "}\n",
       "#T_00046_row1_col6, #T_00046_row10_col3 {\n",
       "  background-color: #7a9df8;\n",
       "  color: #f1f1f1;\n",
       "}\n",
       "#T_00046_row1_col7, #T_00046_row5_col7, #T_00046_row9_col4, #T_00046_row16_col7 {\n",
       "  background-color: #4c66d6;\n",
       "  color: #f1f1f1;\n",
       "}\n",
       "#T_00046_row1_col8, #T_00046_row7_col8, #T_00046_row20_col1, #T_00046_row22_col3, #T_00046_row26_col3 {\n",
       "  background-color: #88abfd;\n",
       "  color: #000000;\n",
       "}\n",
       "#T_00046_row1_col12, #T_00046_row3_col0, #T_00046_row7_col6, #T_00046_row8_col19, #T_00046_row9_col1, #T_00046_row9_col19, #T_00046_row15_col2, #T_00046_row17_col13, #T_00046_row22_col19, #T_00046_row23_col10, #T_00046_row25_col19 {\n",
       "  background-color: #6485ec;\n",
       "  color: #f1f1f1;\n",
       "}\n",
       "#T_00046_row1_col14, #T_00046_row1_col15, #T_00046_row5_col21, #T_00046_row5_col25, #T_00046_row5_col26, #T_00046_row6_col2, #T_00046_row6_col21, #T_00046_row16_col4 {\n",
       "  background-color: #3c4ec2;\n",
       "  color: #f1f1f1;\n",
       "}\n",
       "#T_00046_row1_col17, #T_00046_row2_col15, #T_00046_row2_col17, #T_00046_row2_col21, #T_00046_row2_col22, #T_00046_row5_col17, #T_00046_row6_col17, #T_00046_row10_col17, #T_00046_row10_col21, #T_00046_row13_col17, #T_00046_row16_col15, #T_00046_row16_col17, #T_00046_row16_col21, #T_00046_row16_col22, #T_00046_row16_col25, #T_00046_row16_col26, #T_00046_row19_col17, #T_00046_row20_col17, #T_00046_row20_col21, #T_00046_row24_col17, #T_00046_row24_col21 {\n",
       "  background-color: #3d50c3;\n",
       "  color: #f1f1f1;\n",
       "}\n",
       "#T_00046_row1_col18, #T_00046_row4_col9, #T_00046_row5_col11, #T_00046_row5_col18, #T_00046_row10_col7, #T_00046_row14_col4, #T_00046_row16_col10, #T_00046_row16_col19, #T_00046_row19_col9, #T_00046_row22_col14, #T_00046_row26_col9, #T_00046_row26_col14 {\n",
       "  background-color: #4f69d9;\n",
       "  color: #f1f1f1;\n",
       "}\n",
       "#T_00046_row1_col20, #T_00046_row2_col9 {\n",
       "  background-color: #7da0f9;\n",
       "  color: #f1f1f1;\n",
       "}\n",
       "#T_00046_row1_col21, #T_00046_row1_col25, #T_00046_row2_col14, #T_00046_row2_col26, #T_00046_row3_col15, #T_00046_row3_col26, #T_00046_row6_col23, #T_00046_row12_col22, #T_00046_row13_col15, #T_00046_row13_col21, #T_00046_row13_col26, #T_00046_row16_col9, #T_00046_row19_col21, #T_00046_row19_col22, #T_00046_row20_col4, #T_00046_row20_col25 {\n",
       "  background-color: #4055c8;\n",
       "  color: #f1f1f1;\n",
       "}\n",
       "#T_00046_row1_col24, #T_00046_row3_col7, #T_00046_row3_col19, #T_00046_row10_col18, #T_00046_row13_col1, #T_00046_row16_col24, #T_00046_row23_col12 {\n",
       "  background-color: #536edd;\n",
       "  color: #f1f1f1;\n",
       "}\n",
       "#T_00046_row2_col0, #T_00046_row4_col2, #T_00046_row7_col10, #T_00046_row11_col13, #T_00046_row16_col13, #T_00046_row24_col1, #T_00046_row24_col16 {\n",
       "  background-color: #5e7de7;\n",
       "  color: #f1f1f1;\n",
       "}\n",
       "#T_00046_row2_col1 {\n",
       "  background-color: #dedcdb;\n",
       "  color: #000000;\n",
       "}\n",
       "#T_00046_row2_col3, #T_00046_row6_col16 {\n",
       "  background-color: #d1dae9;\n",
       "  color: #000000;\n",
       "}\n",
       "#T_00046_row2_col4, #T_00046_row3_col22, #T_00046_row5_col13, #T_00046_row8_col9, #T_00046_row10_col4, #T_00046_row10_col25, #T_00046_row13_col6, #T_00046_row13_col22, #T_00046_row16_col12, #T_00046_row16_col14, #T_00046_row17_col21, #T_00046_row19_col26, #T_00046_row20_col15, #T_00046_row20_col26, #T_00046_row24_col15 {\n",
       "  background-color: #3f53c6;\n",
       "  color: #f1f1f1;\n",
       "}\n",
       "#T_00046_row2_col5 {\n",
       "  background-color: #7ea1fa;\n",
       "  color: #f1f1f1;\n",
       "}\n",
       "#T_00046_row2_col8, #T_00046_row16_col5 {\n",
       "  background-color: #7597f6;\n",
       "  color: #f1f1f1;\n",
       "}\n",
       "#T_00046_row2_col10, #T_00046_row13_col10 {\n",
       "  background-color: #9bbcff;\n",
       "  color: #000000;\n",
       "}\n",
       "#T_00046_row2_col12, #T_00046_row3_col13, #T_00046_row3_col24, #T_00046_row4_col14, #T_00046_row6_col7, #T_00046_row7_col9, #T_00046_row9_col15, #T_00046_row12_col6, #T_00046_row13_col7, #T_00046_row15_col12, #T_00046_row16_col11, #T_00046_row16_col18, #T_00046_row17_col9, #T_00046_row19_col24, #T_00046_row22_col12, #T_00046_row26_col12 {\n",
       "  background-color: #516ddb;\n",
       "  color: #f1f1f1;\n",
       "}\n",
       "#T_00046_row2_col16, #T_00046_row5_col14, #T_00046_row12_col9, #T_00046_row12_col14, #T_00046_row13_col2, #T_00046_row24_col2 {\n",
       "  background-color: #4a63d3;\n",
       "  color: #f1f1f1;\n",
       "}\n",
       "#T_00046_row2_col19, #T_00046_row3_col8, #T_00046_row5_col15, #T_00046_row5_col23, #T_00046_row7_col14, #T_00046_row7_col22, #T_00046_row8_col25, #T_00046_row9_col6, #T_00046_row10_col11, #T_00046_row14_col6, #T_00046_row20_col11, #T_00046_row20_col18, #T_00046_row21_col12, #T_00046_row24_col11, #T_00046_row24_col18 {\n",
       "  background-color: #5470de;\n",
       "  color: #f1f1f1;\n",
       "}\n",
       "#T_00046_row2_col20, #T_00046_row4_col7, #T_00046_row7_col0, #T_00046_row11_col16, #T_00046_row12_col2, #T_00046_row15_col1, #T_00046_row17_col6, #T_00046_row18_col2, #T_00046_row18_col16, #T_00046_row21_col19, #T_00046_row23_col2, #T_00046_row25_col16 {\n",
       "  background-color: #6a8bef;\n",
       "  color: #f1f1f1;\n",
       "}\n",
       "#T_00046_row2_col24, #T_00046_row3_col14, #T_00046_row5_col1, #T_00046_row7_col25, #T_00046_row8_col15, #T_00046_row11_col25, #T_00046_row15_col25, #T_00046_row18_col25, #T_00046_row19_col4, #T_00046_row22_col25, #T_00046_row26_col25 {\n",
       "  background-color: #465ecf;\n",
       "  color: #f1f1f1;\n",
       "}\n",
       "#T_00046_row3_col1, #T_00046_row14_col5 {\n",
       "  background-color: #9dbdff;\n",
       "  color: #000000;\n",
       "}\n",
       "#T_00046_row3_col2 {\n",
       "  background-color: #bed2f6;\n",
       "  color: #000000;\n",
       "}\n",
       "#T_00046_row3_col5 {\n",
       "  background-color: #c0d4f5;\n",
       "  color: #000000;\n",
       "}\n",
       "#T_00046_row3_col9, #T_00046_row4_col0, #T_00046_row7_col1, #T_00046_row7_col16, #T_00046_row9_col0, #T_00046_row14_col0, #T_00046_row15_col19, #T_00046_row17_col24, #T_00046_row20_col24, #T_00046_row21_col6, #T_00046_row21_col13, #T_00046_row21_col24, #T_00046_row22_col7, #T_00046_row26_col2 {\n",
       "  background-color: #688aef;\n",
       "  color: #f1f1f1;\n",
       "}\n",
       "#T_00046_row3_col11, #T_00046_row3_col20, #T_00046_row8_col1, #T_00046_row10_col20, #T_00046_row11_col7, #T_00046_row12_col10, #T_00046_row13_col19, #T_00046_row15_col7, #T_00046_row18_col7, #T_00046_row20_col7, #T_00046_row22_col9, #T_00046_row25_col7, #T_00046_row26_col7 {\n",
       "  background-color: #5673e0;\n",
       "  color: #f1f1f1;\n",
       "}\n",
       "#T_00046_row3_col16, #T_00046_row4_col18, #T_00046_row6_col0, #T_00046_row8_col14, #T_00046_row9_col7, #T_00046_row12_col11, #T_00046_row12_col13, #T_00046_row12_col18, #T_00046_row21_col14, #T_00046_row23_col7 {\n",
       "  background-color: #5875e1;\n",
       "  color: #f1f1f1;\n",
       "}\n",
       "#T_00046_row4_col3, #T_00046_row12_col3 {\n",
       "  background-color: #81a4fb;\n",
       "  color: #f1f1f1;\n",
       "}\n",
       "#T_00046_row4_col8, #T_00046_row4_col12, #T_00046_row12_col8 {\n",
       "  background-color: #b5cdfa;\n",
       "  color: #000000;\n",
       "}\n",
       "#T_00046_row4_col16, #T_00046_row4_col22, #T_00046_row4_col24, #T_00046_row7_col17, #T_00046_row7_col24, #T_00046_row13_col0, #T_00046_row15_col20, #T_00046_row20_col0, #T_00046_row21_col7, #T_00046_row22_col6, #T_00046_row22_col10, #T_00046_row25_col2, #T_00046_row26_col13, #T_00046_row26_col19, #T_00046_row26_col20 {\n",
       "  background-color: #6282ea;\n",
       "  color: #f1f1f1;\n",
       "}\n",
       "#T_00046_row4_col19, #T_00046_row7_col13, #T_00046_row11_col10, #T_00046_row12_col16, #T_00046_row14_col1, #T_00046_row15_col6, #T_00046_row18_col10, #T_00046_row18_col13, #T_00046_row25_col10, #T_00046_row25_col13 {\n",
       "  background-color: #5f7fe8;\n",
       "  color: #f1f1f1;\n",
       "}\n",
       "#T_00046_row5_col3, #T_00046_row23_col5, #T_00046_row24_col8 {\n",
       "  background-color: #aec9fc;\n",
       "  color: #000000;\n",
       "}\n",
       "#T_00046_row5_col10, #T_00046_row6_col20, #T_00046_row8_col22, #T_00046_row12_col17, #T_00046_row17_col25, #T_00046_row19_col15, #T_00046_row20_col12, #T_00046_row21_col25, #T_00046_row23_col25, #T_00046_row24_col4 {\n",
       "  background-color: #485fd1;\n",
       "  color: #f1f1f1;\n",
       "}\n",
       "#T_00046_row5_col19, #T_00046_row11_col8, #T_00046_row12_col1 {\n",
       "  background-color: #84a7fc;\n",
       "  color: #f1f1f1;\n",
       "}\n",
       "#T_00046_row6_col3, #T_00046_row7_col20, #T_00046_row8_col4, #T_00046_row12_col0, #T_00046_row12_col7, #T_00046_row17_col19, #T_00046_row17_col20, #T_00046_row18_col1, #T_00046_row21_col20, #T_00046_row23_col6, #T_00046_row23_col24, #T_00046_row24_col20, #T_00046_row26_col24 {\n",
       "  background-color: #6788ee;\n",
       "  color: #f1f1f1;\n",
       "}\n",
       "#T_00046_row6_col5, #T_00046_row15_col14, #T_00046_row21_col1, #T_00046_row24_col3 {\n",
       "  background-color: #7699f6;\n",
       "  color: #f1f1f1;\n",
       "}\n",
       "#T_00046_row6_col8 {\n",
       "  background-color: #d5dbe5;\n",
       "  color: #000000;\n",
       "}\n",
       "#T_00046_row6_col24, #T_00046_row11_col2, #T_00046_row16_col3, #T_00046_row19_col14, #T_00046_row23_col1, #T_00046_row23_col16 {\n",
       "  background-color: #7093f3;\n",
       "  color: #f1f1f1;\n",
       "}\n",
       "#T_00046_row7_col3, #T_00046_row10_col5, #T_00046_row11_col3, #T_00046_row14_col19, #T_00046_row15_col3, #T_00046_row18_col3, #T_00046_row25_col3 {\n",
       "  background-color: #86a9fc;\n",
       "  color: #f1f1f1;\n",
       "}\n",
       "#T_00046_row7_col5, #T_00046_row23_col8 {\n",
       "  background-color: #98b9ff;\n",
       "  color: #000000;\n",
       "}\n",
       "#T_00046_row8_col6 {\n",
       "  background-color: #afcafc;\n",
       "  color: #000000;\n",
       "}\n",
       "#T_00046_row8_col10, #T_00046_row8_col12, #T_00046_row13_col16, #T_00046_row22_col4, #T_00046_row22_col16, #T_00046_row23_col0, #T_00046_row25_col1, #T_00046_row26_col16 {\n",
       "  background-color: #6c8ff1;\n",
       "  color: #f1f1f1;\n",
       "}\n",
       "#T_00046_row8_col13, #T_00046_row10_col19, #T_00046_row11_col1, #T_00046_row17_col0, #T_00046_row19_col10, #T_00046_row21_col0, #T_00046_row22_col1, #T_00046_row26_col1 {\n",
       "  background-color: #6e90f2;\n",
       "  color: #f1f1f1;\n",
       "}\n",
       "#T_00046_row8_col16, #T_00046_row11_col14, #T_00046_row13_col8, #T_00046_row13_col24, #T_00046_row20_col8 {\n",
       "  background-color: #a9c6fd;\n",
       "  color: #000000;\n",
       "}\n",
       "#T_00046_row8_col20, #T_00046_row10_col1, #T_00046_row12_col19, #T_00046_row20_col2 {\n",
       "  background-color: #6f92f3;\n",
       "  color: #f1f1f1;\n",
       "}\n",
       "#T_00046_row8_col24, #T_00046_row24_col5 {\n",
       "  background-color: #779af7;\n",
       "  color: #f1f1f1;\n",
       "}\n",
       "#T_00046_row9_col2, #T_00046_row20_col16 {\n",
       "  background-color: #96b7ff;\n",
       "  color: #000000;\n",
       "}\n",
       "#T_00046_row9_col3, #T_00046_row10_col2, #T_00046_row17_col8, #T_00046_row19_col8 {\n",
       "  background-color: #9fbfff;\n",
       "  color: #000000;\n",
       "}\n",
       "#T_00046_row9_col5 {\n",
       "  background-color: #a5c3fe;\n",
       "  color: #000000;\n",
       "}\n",
       "#T_00046_row9_col8 {\n",
       "  background-color: #93b5fe;\n",
       "  color: #000000;\n",
       "}\n",
       "#T_00046_row9_col10, #T_00046_row15_col10, #T_00046_row17_col10, #T_00046_row21_col10, #T_00046_row22_col2, #T_00046_row23_col19, #T_00046_row23_col20, #T_00046_row25_col24 {\n",
       "  background-color: #6687ed;\n",
       "  color: #f1f1f1;\n",
       "}\n",
       "#T_00046_row10_col8, #T_00046_row22_col8, #T_00046_row24_col13 {\n",
       "  background-color: #a6c4fe;\n",
       "  color: #000000;\n",
       "}\n",
       "#T_00046_row10_col9, #T_00046_row10_col24, #T_00046_row11_col12, #T_00046_row17_col14, #T_00046_row18_col12, #T_00046_row19_col7, #T_00046_row21_col9, #T_00046_row23_col9, #T_00046_row23_col14, #T_00046_row24_col7, #T_00046_row24_col19 {\n",
       "  background-color: #506bda;\n",
       "  color: #f1f1f1;\n",
       "}\n",
       "#T_00046_row10_col13, #T_00046_row26_col5 {\n",
       "  background-color: #9abbff;\n",
       "  color: #000000;\n",
       "}\n",
       "#T_00046_row11_col0, #T_00046_row14_col15, #T_00046_row15_col0, #T_00046_row15_col16, #T_00046_row17_col2, #T_00046_row18_col0, #T_00046_row21_col2, #T_00046_row22_col0, #T_00046_row25_col0, #T_00046_row26_col0 {\n",
       "  background-color: #6b8df0;\n",
       "  color: #f1f1f1;\n",
       "}\n",
       "#T_00046_row11_col5, #T_00046_row18_col5, #T_00046_row25_col5 {\n",
       "  background-color: #97b8ff;\n",
       "  color: #000000;\n",
       "}\n",
       "#T_00046_row11_col18, #T_00046_row18_col11 {\n",
       "  background-color: #d0473d;\n",
       "  color: #f1f1f1;\n",
       "}\n",
       "#T_00046_row12_col5 {\n",
       "  background-color: #8caffe;\n",
       "  color: #000000;\n",
       "}\n",
       "#T_00046_row13_col5 {\n",
       "  background-color: #80a3fa;\n",
       "  color: #f1f1f1;\n",
       "}\n",
       "#T_00046_row14_col8, #T_00046_row26_col8 {\n",
       "  background-color: #a7c5fe;\n",
       "  color: #000000;\n",
       "}\n",
       "#T_00046_row14_col11, #T_00046_row14_col18 {\n",
       "  background-color: #b2ccfb;\n",
       "  color: #000000;\n",
       "}\n",
       "#T_00046_row15_col5 {\n",
       "  background-color: #adc9fd;\n",
       "  color: #000000;\n",
       "}\n",
       "#T_00046_row15_col8 {\n",
       "  background-color: #a2c1ff;\n",
       "  color: #000000;\n",
       "}\n",
       "#T_00046_row16_col6, #T_00046_row16_col8 {\n",
       "  background-color: #ccd9ed;\n",
       "  color: #000000;\n",
       "}\n",
       "#T_00046_row16_col20, #T_00046_row17_col3, #T_00046_row21_col3 {\n",
       "  background-color: #8badfd;\n",
       "  color: #000000;\n",
       "}\n",
       "#T_00046_row17_col1, #T_00046_row20_col13, #T_00046_row21_col16, #T_00046_row24_col6 {\n",
       "  background-color: #7295f4;\n",
       "  color: #f1f1f1;\n",
       "}\n",
       "#T_00046_row17_col5, #T_00046_row21_col5 {\n",
       "  background-color: #a1c0ff;\n",
       "  color: #000000;\n",
       "}\n",
       "#T_00046_row17_col7, #T_00046_row20_col3 {\n",
       "  background-color: #7b9ff9;\n",
       "  color: #f1f1f1;\n",
       "}\n",
       "#T_00046_row18_col8 {\n",
       "  background-color: #85a8fc;\n",
       "  color: #f1f1f1;\n",
       "}\n",
       "#T_00046_row18_col14, #T_00046_row22_col5 {\n",
       "  background-color: #aac7fd;\n",
       "  color: #000000;\n",
       "}\n",
       "#T_00046_row19_col5 {\n",
       "  background-color: #b7cff9;\n",
       "  color: #000000;\n",
       "}\n",
       "#T_00046_row21_col8 {\n",
       "  background-color: #9ebeff;\n",
       "  color: #000000;\n",
       "}\n",
       "#T_00046_row23_col3 {\n",
       "  background-color: #89acfd;\n",
       "  color: #000000;\n",
       "}\n",
       "#T_00046_row25_col8 {\n",
       "  background-color: #abc8fd;\n",
       "  color: #000000;\n",
       "}\n",
       "</style>\n",
       "<table id=\"T_00046_\" class=\"dataframe\">\n",
       "  <thead>\n",
       "    <tr>\n",
       "      <th class=\"blank level0\" >&nbsp;</th>\n",
       "      <th class=\"col_heading level0 col0\" ></th>\n",
       "      <th class=\"col_heading level0 col1\" >Action</th>\n",
       "      <th class=\"col_heading level0 col2\" >Adventure</th>\n",
       "      <th class=\"col_heading level0 col3\" >Animation</th>\n",
       "      <th class=\"col_heading level0 col4\" >Biography</th>\n",
       "      <th class=\"col_heading level0 col5\" >Comedy</th>\n",
       "      <th class=\"col_heading level0 col6\" >Crime</th>\n",
       "      <th class=\"col_heading level0 col7\" >Documentary</th>\n",
       "      <th class=\"col_heading level0 col8\" >Drama</th>\n",
       "      <th class=\"col_heading level0 col9\" >Family</th>\n",
       "      <th class=\"col_heading level0 col10\" >Fantasy</th>\n",
       "      <th class=\"col_heading level0 col11\" >Game-Show</th>\n",
       "      <th class=\"col_heading level0 col12\" >History</th>\n",
       "      <th class=\"col_heading level0 col13\" >Horror</th>\n",
       "      <th class=\"col_heading level0 col14\" >Music</th>\n",
       "      <th class=\"col_heading level0 col15\" >Musical</th>\n",
       "      <th class=\"col_heading level0 col16\" >Mystery</th>\n",
       "      <th class=\"col_heading level0 col17\" >News</th>\n",
       "      <th class=\"col_heading level0 col18\" >Reality-TV</th>\n",
       "      <th class=\"col_heading level0 col19\" >Romance</th>\n",
       "      <th class=\"col_heading level0 col20\" >Sci-Fi</th>\n",
       "      <th class=\"col_heading level0 col21\" >Short</th>\n",
       "      <th class=\"col_heading level0 col22\" >Sport</th>\n",
       "      <th class=\"col_heading level0 col23\" >Talk-Show</th>\n",
       "      <th class=\"col_heading level0 col24\" >Thriller</th>\n",
       "      <th class=\"col_heading level0 col25\" >War</th>\n",
       "      <th class=\"col_heading level0 col26\" >Western</th>\n",
       "    </tr>\n",
       "  </thead>\n",
       "  <tbody>\n",
       "    <tr>\n",
       "      <th id=\"T_00046_level0_row0\" class=\"row_heading level0 row0\" ></th>\n",
       "      <td id=\"T_00046_row0_col0\" class=\"data row0 col0\" >1.000000</td>\n",
       "      <td id=\"T_00046_row0_col1\" class=\"data row0 col1\" >-0.070363</td>\n",
       "      <td id=\"T_00046_row0_col2\" class=\"data row0 col2\" >-0.057367</td>\n",
       "      <td id=\"T_00046_row0_col3\" class=\"data row0 col3\" >-0.033595</td>\n",
       "      <td id=\"T_00046_row0_col4\" class=\"data row0 col4\" >-0.020524</td>\n",
       "      <td id=\"T_00046_row0_col5\" class=\"data row0 col5\" >-0.076367</td>\n",
       "      <td id=\"T_00046_row0_col6\" class=\"data row0 col6\" >-0.078427</td>\n",
       "      <td id=\"T_00046_row0_col7\" class=\"data row0 col7\" >-0.012122</td>\n",
       "      <td id=\"T_00046_row0_col8\" class=\"data row0 col8\" >-0.193839</td>\n",
       "      <td id=\"T_00046_row0_col9\" class=\"data row0 col9\" >-0.019232</td>\n",
       "      <td id=\"T_00046_row0_col10\" class=\"data row0 col10\" >-0.047907</td>\n",
       "      <td id=\"T_00046_row0_col11\" class=\"data row0 col11\" >-0.011595</td>\n",
       "      <td id=\"T_00046_row0_col12\" class=\"data row0 col12\" >-0.023019</td>\n",
       "      <td id=\"T_00046_row0_col13\" class=\"data row0 col13\" >-0.040665</td>\n",
       "      <td id=\"T_00046_row0_col14\" class=\"data row0 col14\" >-0.018818</td>\n",
       "      <td id=\"T_00046_row0_col15\" class=\"data row0 col15\" >-0.009405</td>\n",
       "      <td id=\"T_00046_row0_col16\" class=\"data row0 col16\" >-0.059309</td>\n",
       "      <td id=\"T_00046_row0_col17\" class=\"data row0 col17\" >-0.001376</td>\n",
       "      <td id=\"T_00046_row0_col18\" class=\"data row0 col18\" >-0.011470</td>\n",
       "      <td id=\"T_00046_row0_col19\" class=\"data row0 col19\" >-0.039420</td>\n",
       "      <td id=\"T_00046_row0_col20\" class=\"data row0 col20\" >-0.042480</td>\n",
       "      <td id=\"T_00046_row0_col21\" class=\"data row0 col21\" >-0.002176</td>\n",
       "      <td id=\"T_00046_row0_col22\" class=\"data row0 col22\" >-0.007917</td>\n",
       "      <td id=\"T_00046_row0_col23\" class=\"data row0 col23\" >-0.003642</td>\n",
       "      <td id=\"T_00046_row0_col24\" class=\"data row0 col24\" >-0.045468</td>\n",
       "      <td id=\"T_00046_row0_col25\" class=\"data row0 col25\" >-0.011470</td>\n",
       "      <td id=\"T_00046_row0_col26\" class=\"data row0 col26\" >-0.008665</td>\n",
       "    </tr>\n",
       "    <tr>\n",
       "      <th id=\"T_00046_level0_row1\" class=\"row_heading level0 row1\" >Action</th>\n",
       "      <td id=\"T_00046_row1_col0\" class=\"data row1 col0\" >-0.070363</td>\n",
       "      <td id=\"T_00046_row1_col1\" class=\"data row1 col1\" >1.000000</td>\n",
       "      <td id=\"T_00046_row1_col2\" class=\"data row1 col2\" >0.396685</td>\n",
       "      <td id=\"T_00046_row1_col3\" class=\"data row1 col3\" >0.141309</td>\n",
       "      <td id=\"T_00046_row1_col4\" class=\"data row1 col4\" >-0.069706</td>\n",
       "      <td id=\"T_00046_row1_col5\" class=\"data row1 col5\" >-0.168405</td>\n",
       "      <td id=\"T_00046_row1_col6\" class=\"data row1 col6\" >0.049606</td>\n",
       "      <td id=\"T_00046_row1_col7\" class=\"data row1 col7\" >-0.042441</td>\n",
       "      <td id=\"T_00046_row1_col8\" class=\"data row1 col8\" >-0.108464</td>\n",
       "      <td id=\"T_00046_row1_col9\" class=\"data row1 col9\" >-0.054146</td>\n",
       "      <td id=\"T_00046_row1_col10\" class=\"data row1 col10\" >-0.016243</td>\n",
       "      <td id=\"T_00046_row1_col11\" class=\"data row1 col11\" >-0.023879</td>\n",
       "      <td id=\"T_00046_row1_col12\" class=\"data row1 col12\" >0.053485</td>\n",
       "      <td id=\"T_00046_row1_col13\" class=\"data row1 col13\" >-0.120460</td>\n",
       "      <td id=\"T_00046_row1_col14\" class=\"data row1 col14\" >-0.072507</td>\n",
       "      <td id=\"T_00046_row1_col15\" class=\"data row1 col15\" >-0.036238</td>\n",
       "      <td id=\"T_00046_row1_col16\" class=\"data row1 col16\" >-0.219238</td>\n",
       "      <td id=\"T_00046_row1_col17\" class=\"data row1 col17\" >-0.005302</td>\n",
       "      <td id=\"T_00046_row1_col18\" class=\"data row1 col18\" >-0.044195</td>\n",
       "      <td id=\"T_00046_row1_col19\" class=\"data row1 col19\" >-0.092115</td>\n",
       "      <td id=\"T_00046_row1_col20\" class=\"data row1 col20\" >0.071185</td>\n",
       "      <td id=\"T_00046_row1_col21\" class=\"data row1 col21\" >0.007339</td>\n",
       "      <td id=\"T_00046_row1_col22\" class=\"data row1 col22\" >-0.021838</td>\n",
       "      <td id=\"T_00046_row1_col23\" class=\"data row1 col23\" >-0.014031</td>\n",
       "      <td id=\"T_00046_row1_col24\" class=\"data row1 col24\" >-0.080160</td>\n",
       "      <td id=\"T_00046_row1_col25\" class=\"data row1 col25\" >-0.027679</td>\n",
       "      <td id=\"T_00046_row1_col26\" class=\"data row1 col26\" >-0.023480</td>\n",
       "    </tr>\n",
       "    <tr>\n",
       "      <th id=\"T_00046_level0_row2\" class=\"row_heading level0 row2\" >Adventure</th>\n",
       "      <td id=\"T_00046_row2_col0\" class=\"data row2 col0\" >-0.057367</td>\n",
       "      <td id=\"T_00046_row2_col1\" class=\"data row2 col1\" >0.396685</td>\n",
       "      <td id=\"T_00046_row2_col2\" class=\"data row2 col2\" >1.000000</td>\n",
       "      <td id=\"T_00046_row2_col3\" class=\"data row2 col3\" >0.276660</td>\n",
       "      <td id=\"T_00046_row2_col4\" class=\"data row2 col4\" >-0.051857</td>\n",
       "      <td id=\"T_00046_row2_col5\" class=\"data row2 col5\" >-0.146714</td>\n",
       "      <td id=\"T_00046_row2_col6\" class=\"data row2 col6\" >-0.182314</td>\n",
       "      <td id=\"T_00046_row2_col7\" class=\"data row2 col7\" >-0.034841</td>\n",
       "      <td id=\"T_00046_row2_col8\" class=\"data row2 col8\" >-0.188434</td>\n",
       "      <td id=\"T_00046_row2_col9\" class=\"data row2 col9\" >0.141028</td>\n",
       "      <td id=\"T_00046_row2_col10\" class=\"data row2 col10\" >0.171626</td>\n",
       "      <td id=\"T_00046_row2_col11\" class=\"data row2 col11\" >0.014329</td>\n",
       "      <td id=\"T_00046_row2_col12\" class=\"data row2 col12\" >-0.010505</td>\n",
       "      <td id=\"T_00046_row2_col13\" class=\"data row2 col13\" >-0.124092</td>\n",
       "      <td id=\"T_00046_row2_col14\" class=\"data row2 col14\" >-0.058061</td>\n",
       "      <td id=\"T_00046_row2_col15\" class=\"data row2 col15\" >-0.029545</td>\n",
       "      <td id=\"T_00046_row2_col16\" class=\"data row2 col16\" >-0.154989</td>\n",
       "      <td id=\"T_00046_row2_col17\" class=\"data row2 col17\" >-0.004322</td>\n",
       "      <td id=\"T_00046_row2_col18\" class=\"data row2 col18\" >-0.008673</td>\n",
       "      <td id=\"T_00046_row2_col19\" class=\"data row2 col19\" >-0.071843</td>\n",
       "      <td id=\"T_00046_row2_col20\" class=\"data row2 col20\" >0.007590</td>\n",
       "      <td id=\"T_00046_row2_col21\" class=\"data row2 col21\" >-0.006835</td>\n",
       "      <td id=\"T_00046_row2_col22\" class=\"data row2 col22\" >-0.022404</td>\n",
       "      <td id=\"T_00046_row2_col23\" class=\"data row2 col23\" >-0.011440</td>\n",
       "      <td id=\"T_00046_row2_col24\" class=\"data row2 col24\" >-0.127579</td>\n",
       "      <td id=\"T_00046_row2_col25\" class=\"data row2 col25\" >-0.036033</td>\n",
       "      <td id=\"T_00046_row2_col26\" class=\"data row2 col26\" >-0.015938</td>\n",
       "    </tr>\n",
       "    <tr>\n",
       "      <th id=\"T_00046_level0_row3\" class=\"row_heading level0 row3\" >Animation</th>\n",
       "      <td id=\"T_00046_row3_col0\" class=\"data row3 col0\" >-0.033595</td>\n",
       "      <td id=\"T_00046_row3_col1\" class=\"data row3 col1\" >0.141309</td>\n",
       "      <td id=\"T_00046_row3_col2\" class=\"data row3 col2\" >0.276660</td>\n",
       "      <td id=\"T_00046_row3_col3\" class=\"data row3 col3\" >1.000000</td>\n",
       "      <td id=\"T_00046_row3_col4\" class=\"data row3 col4\" >-0.037758</td>\n",
       "      <td id=\"T_00046_row3_col5\" class=\"data row3 col5\" >0.132399</td>\n",
       "      <td id=\"T_00046_row3_col6\" class=\"data row3 col6\" >-0.136633</td>\n",
       "      <td id=\"T_00046_row3_col7\" class=\"data row3 col7\" >-0.019813</td>\n",
       "      <td id=\"T_00046_row3_col8\" class=\"data row3 col8\" >-0.327819</td>\n",
       "      <td id=\"T_00046_row3_col9\" class=\"data row3 col9\" >0.075712</td>\n",
       "      <td id=\"T_00046_row3_col10\" class=\"data row3 col10\" >-0.067046</td>\n",
       "      <td id=\"T_00046_row3_col11\" class=\"data row3 col11\" >-0.021331</td>\n",
       "      <td id=\"T_00046_row3_col12\" class=\"data row3 col12\" >-0.041010</td>\n",
       "      <td id=\"T_00046_row3_col13\" class=\"data row3 col13\" >-0.071602</td>\n",
       "      <td id=\"T_00046_row3_col14\" class=\"data row3 col14\" >-0.034619</td>\n",
       "      <td id=\"T_00046_row3_col15\" class=\"data row3 col15\" >-0.017302</td>\n",
       "      <td id=\"T_00046_row3_col16\" class=\"data row3 col16\" >-0.104297</td>\n",
       "      <td id=\"T_00046_row3_col17\" class=\"data row3 col17\" >-0.002531</td>\n",
       "      <td id=\"T_00046_row3_col18\" class=\"data row3 col18\" >-0.021101</td>\n",
       "      <td id=\"T_00046_row3_col19\" class=\"data row3 col19\" >-0.072521</td>\n",
       "      <td id=\"T_00046_row3_col20\" class=\"data row3 col20\" >-0.061899</td>\n",
       "      <td id=\"T_00046_row3_col21\" class=\"data row3 col21\" >-0.004003</td>\n",
       "      <td id=\"T_00046_row3_col22\" class=\"data row3 col22\" >-0.014566</td>\n",
       "      <td id=\"T_00046_row3_col23\" class=\"data row3 col23\" >-0.006699</td>\n",
       "      <td id=\"T_00046_row3_col24\" class=\"data row3 col24\" >-0.083647</td>\n",
       "      <td id=\"T_00046_row3_col25\" class=\"data row3 col25\" >-0.021101</td>\n",
       "      <td id=\"T_00046_row3_col26\" class=\"data row3 col26\" >-0.015941</td>\n",
       "    </tr>\n",
       "    <tr>\n",
       "      <th id=\"T_00046_level0_row4\" class=\"row_heading level0 row4\" >Biography</th>\n",
       "      <td id=\"T_00046_row4_col0\" class=\"data row4 col0\" >-0.020524</td>\n",
       "      <td id=\"T_00046_row4_col1\" class=\"data row4 col1\" >-0.069706</td>\n",
       "      <td id=\"T_00046_row4_col2\" class=\"data row4 col2\" >-0.051857</td>\n",
       "      <td id=\"T_00046_row4_col3\" class=\"data row4 col3\" >-0.037758</td>\n",
       "      <td id=\"T_00046_row4_col4\" class=\"data row4 col4\" >1.000000</td>\n",
       "      <td id=\"T_00046_row4_col5\" class=\"data row4 col5\" >-0.071972</td>\n",
       "      <td id=\"T_00046_row4_col6\" class=\"data row4 col6\" >-0.039087</td>\n",
       "      <td id=\"T_00046_row4_col7\" class=\"data row4 col7\" >0.060925</td>\n",
       "      <td id=\"T_00046_row4_col8\" class=\"data row4 col8\" >0.079090</td>\n",
       "      <td id=\"T_00046_row4_col9\" class=\"data row4 col9\" >-0.009100</td>\n",
       "      <td id=\"T_00046_row4_col10\" class=\"data row4 col10\" >-0.051625</td>\n",
       "      <td id=\"T_00046_row4_col11\" class=\"data row4 col11\" >-0.013032</td>\n",
       "      <td id=\"T_00046_row4_col12\" class=\"data row4 col12\" >0.305275</td>\n",
       "      <td id=\"T_00046_row4_col13\" class=\"data row4 col13\" >-0.045704</td>\n",
       "      <td id=\"T_00046_row4_col14\" class=\"data row4 col14\" >0.001854</td>\n",
       "      <td id=\"T_00046_row4_col15\" class=\"data row4 col15\" >-0.010570</td>\n",
       "      <td id=\"T_00046_row4_col16\" class=\"data row4 col16\" >-0.066657</td>\n",
       "      <td id=\"T_00046_row4_col17\" class=\"data row4 col17\" >-0.001546</td>\n",
       "      <td id=\"T_00046_row4_col18\" class=\"data row4 col18\" >-0.012891</td>\n",
       "      <td id=\"T_00046_row4_col19\" class=\"data row4 col19\" >-0.028720</td>\n",
       "      <td id=\"T_00046_row4_col20\" class=\"data row4 col20\" >-0.047743</td>\n",
       "      <td id=\"T_00046_row4_col21\" class=\"data row4 col21\" >-0.002445</td>\n",
       "      <td id=\"T_00046_row4_col22\" class=\"data row4 col22\" >0.098736</td>\n",
       "      <td id=\"T_00046_row4_col23\" class=\"data row4 col23\" >-0.004093</td>\n",
       "      <td id=\"T_00046_row4_col24\" class=\"data row4 col24\" >-0.025688</td>\n",
       "      <td id=\"T_00046_row4_col25\" class=\"data row4 col25\" >-0.012891</td>\n",
       "      <td id=\"T_00046_row4_col26\" class=\"data row4 col26\" >-0.009739</td>\n",
       "    </tr>\n",
       "    <tr>\n",
       "      <th id=\"T_00046_level0_row5\" class=\"row_heading level0 row5\" >Comedy</th>\n",
       "      <td id=\"T_00046_row5_col0\" class=\"data row5 col0\" >-0.076367</td>\n",
       "      <td id=\"T_00046_row5_col1\" class=\"data row5 col1\" >-0.168405</td>\n",
       "      <td id=\"T_00046_row5_col2\" class=\"data row5 col2\" >-0.146714</td>\n",
       "      <td id=\"T_00046_row5_col3\" class=\"data row5 col3\" >0.132399</td>\n",
       "      <td id=\"T_00046_row5_col4\" class=\"data row5 col4\" >-0.071972</td>\n",
       "      <td id=\"T_00046_row5_col5\" class=\"data row5 col5\" >1.000000</td>\n",
       "      <td id=\"T_00046_row5_col6\" class=\"data row5 col6\" >-0.181915</td>\n",
       "      <td id=\"T_00046_row5_col7\" class=\"data row5 col7\" >-0.041173</td>\n",
       "      <td id=\"T_00046_row5_col8\" class=\"data row5 col8\" >-0.451300</td>\n",
       "      <td id=\"T_00046_row5_col9\" class=\"data row5 col9\" >0.011531</td>\n",
       "      <td id=\"T_00046_row5_col10\" class=\"data row5 col10\" >-0.113502</td>\n",
       "      <td id=\"T_00046_row5_col11\" class=\"data row5 col11\" >-0.048489</td>\n",
       "      <td id=\"T_00046_row5_col12\" class=\"data row5 col12\" >-0.091144</td>\n",
       "      <td id=\"T_00046_row5_col13\" class=\"data row5 col13\" >-0.140675</td>\n",
       "      <td id=\"T_00046_row5_col14\" class=\"data row5 col14\" >-0.025543</td>\n",
       "      <td id=\"T_00046_row5_col15\" class=\"data row5 col15\" >0.046280</td>\n",
       "      <td id=\"T_00046_row5_col16\" class=\"data row5 col16\" >-0.185872</td>\n",
       "      <td id=\"T_00046_row5_col17\" class=\"data row5 col17\" >-0.005754</td>\n",
       "      <td id=\"T_00046_row5_col18\" class=\"data row5 col18\" >-0.045095</td>\n",
       "      <td id=\"T_00046_row5_col19\" class=\"data row5 col19\" >0.092622</td>\n",
       "      <td id=\"T_00046_row5_col20\" class=\"data row5 col20\" >-0.170454</td>\n",
       "      <td id=\"T_00046_row5_col21\" class=\"data row5 col21\" >-0.009099</td>\n",
       "      <td id=\"T_00046_row5_col22\" class=\"data row5 col22\" >0.033210</td>\n",
       "      <td id=\"T_00046_row5_col23\" class=\"data row5 col23\" >0.047685</td>\n",
       "      <td id=\"T_00046_row5_col24\" class=\"data row5 col24\" >-0.175328</td>\n",
       "      <td id=\"T_00046_row5_col25\" class=\"data row5 col25\" >-0.043659</td>\n",
       "      <td id=\"T_00046_row5_col26\" class=\"data row5 col26\" >-0.032446</td>\n",
       "    </tr>\n",
       "    <tr>\n",
       "      <th id=\"T_00046_level0_row6\" class=\"row_heading level0 row6\" >Crime</th>\n",
       "      <td id=\"T_00046_row6_col0\" class=\"data row6 col0\" >-0.078427</td>\n",
       "      <td id=\"T_00046_row6_col1\" class=\"data row6 col1\" >0.049606</td>\n",
       "      <td id=\"T_00046_row6_col2\" class=\"data row6 col2\" >-0.182314</td>\n",
       "      <td id=\"T_00046_row6_col3\" class=\"data row6 col3\" >-0.136633</td>\n",
       "      <td id=\"T_00046_row6_col4\" class=\"data row6 col4\" >-0.039087</td>\n",
       "      <td id=\"T_00046_row6_col5\" class=\"data row6 col5\" >-0.181915</td>\n",
       "      <td id=\"T_00046_row6_col6\" class=\"data row6 col6\" >1.000000</td>\n",
       "      <td id=\"T_00046_row6_col7\" class=\"data row6 col7\" >-0.025226</td>\n",
       "      <td id=\"T_00046_row6_col8\" class=\"data row6 col8\" >0.233329</td>\n",
       "      <td id=\"T_00046_row6_col9\" class=\"data row6 col9\" >-0.082595</td>\n",
       "      <td id=\"T_00046_row6_col10\" class=\"data row6 col10\" >-0.167456</td>\n",
       "      <td id=\"T_00046_row6_col11\" class=\"data row6 col11\" >-0.049797</td>\n",
       "      <td id=\"T_00046_row6_col12\" class=\"data row6 col12\" >-0.093088</td>\n",
       "      <td id=\"T_00046_row6_col13\" class=\"data row6 col13\" >-0.161231</td>\n",
       "      <td id=\"T_00046_row6_col14\" class=\"data row6 col14\" >-0.080817</td>\n",
       "      <td id=\"T_00046_row6_col15\" class=\"data row6 col15\" >-0.040392</td>\n",
       "      <td id=\"T_00046_row6_col16\" class=\"data row6 col16\" >0.337380</td>\n",
       "      <td id=\"T_00046_row6_col17\" class=\"data row6 col17\" >-0.005909</td>\n",
       "      <td id=\"T_00046_row6_col18\" class=\"data row6 col18\" >-0.049260</td>\n",
       "      <td id=\"T_00046_row6_col19\" class=\"data row6 col19\" >-0.167966</td>\n",
       "      <td id=\"T_00046_row6_col20\" class=\"data row6 col20\" >-0.117332</td>\n",
       "      <td id=\"T_00046_row6_col21\" class=\"data row6 col21\" >-0.009344</td>\n",
       "      <td id=\"T_00046_row6_col22\" class=\"data row6 col22\" >-0.034003</td>\n",
       "      <td id=\"T_00046_row6_col23\" class=\"data row6 col23\" >-0.015639</td>\n",
       "      <td id=\"T_00046_row6_col24\" class=\"data row6 col24\" >0.022382</td>\n",
       "      <td id=\"T_00046_row6_col25\" class=\"data row6 col25\" >-0.049260</td>\n",
       "      <td id=\"T_00046_row6_col26\" class=\"data row6 col26\" >-0.037214</td>\n",
       "    </tr>\n",
       "    <tr>\n",
       "      <th id=\"T_00046_level0_row7\" class=\"row_heading level0 row7\" >Documentary</th>\n",
       "      <td id=\"T_00046_row7_col0\" class=\"data row7 col0\" >-0.012122</td>\n",
       "      <td id=\"T_00046_row7_col1\" class=\"data row7 col1\" >-0.042441</td>\n",
       "      <td id=\"T_00046_row7_col2\" class=\"data row7 col2\" >-0.034841</td>\n",
       "      <td id=\"T_00046_row7_col3\" class=\"data row7 col3\" >-0.019813</td>\n",
       "      <td id=\"T_00046_row7_col4\" class=\"data row7 col4\" >0.060925</td>\n",
       "      <td id=\"T_00046_row7_col5\" class=\"data row7 col5\" >-0.041173</td>\n",
       "      <td id=\"T_00046_row7_col6\" class=\"data row7 col6\" >-0.025226</td>\n",
       "      <td id=\"T_00046_row7_col7\" class=\"data row7 col7\" >1.000000</td>\n",
       "      <td id=\"T_00046_row7_col8\" class=\"data row7 col8\" >-0.107562</td>\n",
       "      <td id=\"T_00046_row7_col9\" class=\"data row7 col9\" >-0.000239</td>\n",
       "      <td id=\"T_00046_row7_col10\" class=\"data row7 col10\" >-0.031800</td>\n",
       "      <td id=\"T_00046_row7_col11\" class=\"data row7 col11\" >-0.007697</td>\n",
       "      <td id=\"T_00046_row7_col12\" class=\"data row7 col12\" >0.051577</td>\n",
       "      <td id=\"T_00046_row7_col13\" class=\"data row7 col13\" >-0.024882</td>\n",
       "      <td id=\"T_00046_row7_col14\" class=\"data row7 col14\" >0.008829</td>\n",
       "      <td id=\"T_00046_row7_col15\" class=\"data row7 col15\" >-0.006243</td>\n",
       "      <td id=\"T_00046_row7_col16\" class=\"data row7 col16\" >-0.039369</td>\n",
       "      <td id=\"T_00046_row7_col17\" class=\"data row7 col17\" >0.113511</td>\n",
       "      <td id=\"T_00046_row7_col18\" class=\"data row7 col18\" >-0.007614</td>\n",
       "      <td id=\"T_00046_row7_col19\" class=\"data row7 col19\" >-0.026167</td>\n",
       "      <td id=\"T_00046_row7_col20\" class=\"data row7 col20\" >-0.005801</td>\n",
       "      <td id=\"T_00046_row7_col21\" class=\"data row7 col21\" >0.034743</td>\n",
       "      <td id=\"T_00046_row7_col22\" class=\"data row7 col22\" >0.054600</td>\n",
       "      <td id=\"T_00046_row7_col23\" class=\"data row7 col23\" >-0.002417</td>\n",
       "      <td id=\"T_00046_row7_col24\" class=\"data row7 col24\" >-0.028254</td>\n",
       "      <td id=\"T_00046_row7_col25\" class=\"data row7 col25\" >-0.007614</td>\n",
       "      <td id=\"T_00046_row7_col26\" class=\"data row7 col26\" >-0.005752</td>\n",
       "    </tr>\n",
       "    <tr>\n",
       "      <th id=\"T_00046_level0_row8\" class=\"row_heading level0 row8\" >Drama</th>\n",
       "      <td id=\"T_00046_row8_col0\" class=\"data row8 col0\" >-0.193839</td>\n",
       "      <td id=\"T_00046_row8_col1\" class=\"data row8 col1\" >-0.108464</td>\n",
       "      <td id=\"T_00046_row8_col2\" class=\"data row8 col2\" >-0.188434</td>\n",
       "      <td id=\"T_00046_row8_col3\" class=\"data row8 col3\" >-0.327819</td>\n",
       "      <td id=\"T_00046_row8_col4\" class=\"data row8 col4\" >0.079090</td>\n",
       "      <td id=\"T_00046_row8_col5\" class=\"data row8 col5\" >-0.451300</td>\n",
       "      <td id=\"T_00046_row8_col6\" class=\"data row8 col6\" >0.233329</td>\n",
       "      <td id=\"T_00046_row8_col7\" class=\"data row8 col7\" >-0.107562</td>\n",
       "      <td id=\"T_00046_row8_col8\" class=\"data row8 col8\" >1.000000</td>\n",
       "      <td id=\"T_00046_row8_col9\" class=\"data row8 col9\" >-0.064738</td>\n",
       "      <td id=\"T_00046_row8_col10\" class=\"data row8 col10\" >0.016661</td>\n",
       "      <td id=\"T_00046_row8_col11\" class=\"data row8 col11\" >-0.123077</td>\n",
       "      <td id=\"T_00046_row8_col12\" class=\"data row8 col12\" >0.079372</td>\n",
       "      <td id=\"T_00046_row8_col13\" class=\"data row8 col13\" >0.028409</td>\n",
       "      <td id=\"T_00046_row8_col14\" class=\"data row8 col14\" >0.024289</td>\n",
       "      <td id=\"T_00046_row8_col15\" class=\"data row8 col15\" >0.000665</td>\n",
       "      <td id=\"T_00046_row8_col16\" class=\"data row8 col16\" >0.184076</td>\n",
       "      <td id=\"T_00046_row8_col17\" class=\"data row8 col17\" >-0.014605</td>\n",
       "      <td id=\"T_00046_row8_col18\" class=\"data row8 col18\" >-0.121751</td>\n",
       "      <td id=\"T_00046_row8_col19\" class=\"data row8 col19\" >-0.012393</td>\n",
       "      <td id=\"T_00046_row8_col20\" class=\"data row8 col20\" >0.025277</td>\n",
       "      <td id=\"T_00046_row8_col21\" class=\"data row8 col21\" >-0.016231</td>\n",
       "      <td id=\"T_00046_row8_col22\" class=\"data row8 col22\" >0.014354</td>\n",
       "      <td id=\"T_00046_row8_col23\" class=\"data row8 col23\" >-0.038654</td>\n",
       "      <td id=\"T_00046_row8_col24\" class=\"data row8 col24\" >0.049602</td>\n",
       "      <td id=\"T_00046_row8_col25\" class=\"data row8 col25\" >0.039508</td>\n",
       "      <td id=\"T_00046_row8_col26\" class=\"data row8 col26\" >0.022211</td>\n",
       "    </tr>\n",
       "    <tr>\n",
       "      <th id=\"T_00046_level0_row9\" class=\"row_heading level0 row9\" >Family</th>\n",
       "      <td id=\"T_00046_row9_col0\" class=\"data row9 col0\" >-0.019232</td>\n",
       "      <td id=\"T_00046_row9_col1\" class=\"data row9 col1\" >-0.054146</td>\n",
       "      <td id=\"T_00046_row9_col2\" class=\"data row9 col2\" >0.141028</td>\n",
       "      <td id=\"T_00046_row9_col3\" class=\"data row9 col3\" >0.075712</td>\n",
       "      <td id=\"T_00046_row9_col4\" class=\"data row9 col4\" >-0.009100</td>\n",
       "      <td id=\"T_00046_row9_col5\" class=\"data row9 col5\" >0.011531</td>\n",
       "      <td id=\"T_00046_row9_col6\" class=\"data row9 col6\" >-0.082595</td>\n",
       "      <td id=\"T_00046_row9_col7\" class=\"data row9 col7\" >-0.000239</td>\n",
       "      <td id=\"T_00046_row9_col8\" class=\"data row9 col8\" >-0.064738</td>\n",
       "      <td id=\"T_00046_row9_col9\" class=\"data row9 col9\" >1.000000</td>\n",
       "      <td id=\"T_00046_row9_col10\" class=\"data row9 col10\" >-0.004437</td>\n",
       "      <td id=\"T_00046_row9_col11\" class=\"data row9 col11\" >-0.012211</td>\n",
       "      <td id=\"T_00046_row9_col12\" class=\"data row9 col12\" >-0.024242</td>\n",
       "      <td id=\"T_00046_row9_col13\" class=\"data row9 col13\" >-0.041479</td>\n",
       "      <td id=\"T_00046_row9_col14\" class=\"data row9 col14\" >-0.011657</td>\n",
       "      <td id=\"T_00046_row9_col15\" class=\"data row9 col15\" >0.038379</td>\n",
       "      <td id=\"T_00046_row9_col16\" class=\"data row9 col16\" >-0.060441</td>\n",
       "      <td id=\"T_00046_row9_col17\" class=\"data row9 col17\" >-0.001449</td>\n",
       "      <td id=\"T_00046_row9_col18\" class=\"data row9 col18\" >-0.012080</td>\n",
       "      <td id=\"T_00046_row9_col19\" class=\"data row9 col19\" >-0.008343</td>\n",
       "      <td id=\"T_00046_row9_col20\" class=\"data row9 col20\" >-0.043438</td>\n",
       "      <td id=\"T_00046_row9_col21\" class=\"data row9 col21\" >-0.002291</td>\n",
       "      <td id=\"T_00046_row9_col22\" class=\"data row9 col22\" >0.017118</td>\n",
       "      <td id=\"T_00046_row9_col23\" class=\"data row9 col23\" >-0.003835</td>\n",
       "      <td id=\"T_00046_row9_col24\" class=\"data row9 col24\" >-0.047884</td>\n",
       "      <td id=\"T_00046_row9_col25\" class=\"data row9 col25\" >-0.012080</td>\n",
       "      <td id=\"T_00046_row9_col26\" class=\"data row9 col26\" >-0.009126</td>\n",
       "    </tr>\n",
       "    <tr>\n",
       "      <th id=\"T_00046_level0_row10\" class=\"row_heading level0 row10\" >Fantasy</th>\n",
       "      <td id=\"T_00046_row10_col0\" class=\"data row10 col0\" >-0.047907</td>\n",
       "      <td id=\"T_00046_row10_col1\" class=\"data row10 col1\" >-0.016243</td>\n",
       "      <td id=\"T_00046_row10_col2\" class=\"data row10 col2\" >0.171626</td>\n",
       "      <td id=\"T_00046_row10_col3\" class=\"data row10 col3\" >-0.067046</td>\n",
       "      <td id=\"T_00046_row10_col4\" class=\"data row10 col4\" >-0.051625</td>\n",
       "      <td id=\"T_00046_row10_col5\" class=\"data row10 col5\" >-0.113502</td>\n",
       "      <td id=\"T_00046_row10_col6\" class=\"data row10 col6\" >-0.167456</td>\n",
       "      <td id=\"T_00046_row10_col7\" class=\"data row10 col7\" >-0.031800</td>\n",
       "      <td id=\"T_00046_row10_col8\" class=\"data row10 col8\" >0.016661</td>\n",
       "      <td id=\"T_00046_row10_col9\" class=\"data row10 col9\" >-0.004437</td>\n",
       "      <td id=\"T_00046_row10_col10\" class=\"data row10 col10\" >1.000000</td>\n",
       "      <td id=\"T_00046_row10_col11\" class=\"data row10 col11\" >-0.030418</td>\n",
       "      <td id=\"T_00046_row10_col12\" class=\"data row10 col12\" >-0.058398</td>\n",
       "      <td id=\"T_00046_row10_col13\" class=\"data row10 col13\" >0.173653</td>\n",
       "      <td id=\"T_00046_row10_col14\" class=\"data row10 col14\" >-0.049367</td>\n",
       "      <td id=\"T_00046_row10_col15\" class=\"data row10 col15\" >-0.003287</td>\n",
       "      <td id=\"T_00046_row10_col16\" class=\"data row10 col16\" >-0.086715</td>\n",
       "      <td id=\"T_00046_row10_col17\" class=\"data row10 col17\" >-0.003610</td>\n",
       "      <td id=\"T_00046_row10_col18\" class=\"data row10 col18\" >-0.030090</td>\n",
       "      <td id=\"T_00046_row10_col19\" class=\"data row10 col19\" >0.019639</td>\n",
       "      <td id=\"T_00046_row10_col20\" class=\"data row10 col20\" >-0.064265</td>\n",
       "      <td id=\"T_00046_row10_col21\" class=\"data row10 col21\" >-0.005708</td>\n",
       "      <td id=\"T_00046_row10_col22\" class=\"data row10 col22\" >-0.020770</td>\n",
       "      <td id=\"T_00046_row10_col23\" class=\"data row10 col23\" >-0.009553</td>\n",
       "      <td id=\"T_00046_row10_col24\" class=\"data row10 col24\" >-0.091509</td>\n",
       "      <td id=\"T_00046_row10_col25\" class=\"data row10 col25\" >-0.030090</td>\n",
       "      <td id=\"T_00046_row10_col26\" class=\"data row10 col26\" >-0.022732</td>\n",
       "    </tr>\n",
       "    <tr>\n",
       "      <th id=\"T_00046_level0_row11\" class=\"row_heading level0 row11\" >Game-Show</th>\n",
       "      <td id=\"T_00046_row11_col0\" class=\"data row11 col0\" >-0.011595</td>\n",
       "      <td id=\"T_00046_row11_col1\" class=\"data row11 col1\" >-0.023879</td>\n",
       "      <td id=\"T_00046_row11_col2\" class=\"data row11 col2\" >0.014329</td>\n",
       "      <td id=\"T_00046_row11_col3\" class=\"data row11 col3\" >-0.021331</td>\n",
       "      <td id=\"T_00046_row11_col4\" class=\"data row11 col4\" >-0.013032</td>\n",
       "      <td id=\"T_00046_row11_col5\" class=\"data row11 col5\" >-0.048489</td>\n",
       "      <td id=\"T_00046_row11_col6\" class=\"data row11 col6\" >-0.049797</td>\n",
       "      <td id=\"T_00046_row11_col7\" class=\"data row11 col7\" >-0.007697</td>\n",
       "      <td id=\"T_00046_row11_col8\" class=\"data row11 col8\" >-0.123077</td>\n",
       "      <td id=\"T_00046_row11_col9\" class=\"data row11 col9\" >-0.012211</td>\n",
       "      <td id=\"T_00046_row11_col10\" class=\"data row11 col10\" >-0.030418</td>\n",
       "      <td id=\"T_00046_row11_col11\" class=\"data row11 col11\" >1.000000</td>\n",
       "      <td id=\"T_00046_row11_col12\" class=\"data row11 col12\" >-0.014615</td>\n",
       "      <td id=\"T_00046_row11_col13\" class=\"data row11 col13\" >-0.025820</td>\n",
       "      <td id=\"T_00046_row11_col14\" class=\"data row11 col14\" >0.277609</td>\n",
       "      <td id=\"T_00046_row11_col15\" class=\"data row11 col15\" >-0.005972</td>\n",
       "      <td id=\"T_00046_row11_col16\" class=\"data row11 col16\" >-0.037658</td>\n",
       "      <td id=\"T_00046_row11_col17\" class=\"data row11 col17\" >-0.000874</td>\n",
       "      <td id=\"T_00046_row11_col18\" class=\"data row11 col18\" >0.909795</td>\n",
       "      <td id=\"T_00046_row11_col19\" class=\"data row11 col19\" >-0.025030</td>\n",
       "      <td id=\"T_00046_row11_col20\" class=\"data row11 col20\" >-0.026972</td>\n",
       "      <td id=\"T_00046_row11_col21\" class=\"data row11 col21\" >-0.001381</td>\n",
       "      <td id=\"T_00046_row11_col22\" class=\"data row11 col22\" >-0.005027</td>\n",
       "      <td id=\"T_00046_row11_col23\" class=\"data row11 col23\" >-0.002312</td>\n",
       "      <td id=\"T_00046_row11_col24\" class=\"data row11 col24\" >-0.028870</td>\n",
       "      <td id=\"T_00046_row11_col25\" class=\"data row11 col25\" >-0.007283</td>\n",
       "      <td id=\"T_00046_row11_col26\" class=\"data row11 col26\" >-0.005502</td>\n",
       "    </tr>\n",
       "    <tr>\n",
       "      <th id=\"T_00046_level0_row12\" class=\"row_heading level0 row12\" >History</th>\n",
       "      <td id=\"T_00046_row12_col0\" class=\"data row12 col0\" >-0.023019</td>\n",
       "      <td id=\"T_00046_row12_col1\" class=\"data row12 col1\" >0.053485</td>\n",
       "      <td id=\"T_00046_row12_col2\" class=\"data row12 col2\" >-0.010505</td>\n",
       "      <td id=\"T_00046_row12_col3\" class=\"data row12 col3\" >-0.041010</td>\n",
       "      <td id=\"T_00046_row12_col4\" class=\"data row12 col4\" >0.305275</td>\n",
       "      <td id=\"T_00046_row12_col5\" class=\"data row12 col5\" >-0.091144</td>\n",
       "      <td id=\"T_00046_row12_col6\" class=\"data row12 col6\" >-0.093088</td>\n",
       "      <td id=\"T_00046_row12_col7\" class=\"data row12 col7\" >0.051577</td>\n",
       "      <td id=\"T_00046_row12_col8\" class=\"data row12 col8\" >0.079372</td>\n",
       "      <td id=\"T_00046_row12_col9\" class=\"data row12 col9\" >-0.024242</td>\n",
       "      <td id=\"T_00046_row12_col10\" class=\"data row12 col10\" >-0.058398</td>\n",
       "      <td id=\"T_00046_row12_col11\" class=\"data row12 col11\" >-0.014615</td>\n",
       "      <td id=\"T_00046_row12_col12\" class=\"data row12 col12\" >1.000000</td>\n",
       "      <td id=\"T_00046_row12_col13\" class=\"data row12 col13\" >-0.051258</td>\n",
       "      <td id=\"T_00046_row12_col14\" class=\"data row12 col14\" >-0.023720</td>\n",
       "      <td id=\"T_00046_row12_col15\" class=\"data row12 col15\" >-0.011855</td>\n",
       "      <td id=\"T_00046_row12_col16\" class=\"data row12 col16\" >-0.074758</td>\n",
       "      <td id=\"T_00046_row12_col17\" class=\"data row12 col17\" >0.029021</td>\n",
       "      <td id=\"T_00046_row12_col18\" class=\"data row12 col18\" >-0.014458</td>\n",
       "      <td id=\"T_00046_row12_col19\" class=\"data row12 col19\" >0.023689</td>\n",
       "      <td id=\"T_00046_row12_col20\" class=\"data row12 col20\" >-0.042600</td>\n",
       "      <td id=\"T_00046_row12_col21\" class=\"data row12 col21\" >-0.002743</td>\n",
       "      <td id=\"T_00046_row12_col22\" class=\"data row12 col22\" >-0.009980</td>\n",
       "      <td id=\"T_00046_row12_col23\" class=\"data row12 col23\" >-0.004590</td>\n",
       "      <td id=\"T_00046_row12_col24\" class=\"data row12 col24\" >-0.055240</td>\n",
       "      <td id=\"T_00046_row12_col25\" class=\"data row12 col25\" >0.018983</td>\n",
       "      <td id=\"T_00046_row12_col26\" class=\"data row12 col26\" >-0.010922</td>\n",
       "    </tr>\n",
       "    <tr>\n",
       "      <th id=\"T_00046_level0_row13\" class=\"row_heading level0 row13\" >Horror</th>\n",
       "      <td id=\"T_00046_row13_col0\" class=\"data row13 col0\" >-0.040665</td>\n",
       "      <td id=\"T_00046_row13_col1\" class=\"data row13 col1\" >-0.120460</td>\n",
       "      <td id=\"T_00046_row13_col2\" class=\"data row13 col2\" >-0.124092</td>\n",
       "      <td id=\"T_00046_row13_col3\" class=\"data row13 col3\" >-0.071602</td>\n",
       "      <td id=\"T_00046_row13_col4\" class=\"data row13 col4\" >-0.045704</td>\n",
       "      <td id=\"T_00046_row13_col5\" class=\"data row13 col5\" >-0.140675</td>\n",
       "      <td id=\"T_00046_row13_col6\" class=\"data row13 col6\" >-0.161231</td>\n",
       "      <td id=\"T_00046_row13_col7\" class=\"data row13 col7\" >-0.024882</td>\n",
       "      <td id=\"T_00046_row13_col8\" class=\"data row13 col8\" >0.028409</td>\n",
       "      <td id=\"T_00046_row13_col9\" class=\"data row13 col9\" >-0.041479</td>\n",
       "      <td id=\"T_00046_row13_col10\" class=\"data row13 col10\" >0.173653</td>\n",
       "      <td id=\"T_00046_row13_col11\" class=\"data row13 col11\" >-0.025820</td>\n",
       "      <td id=\"T_00046_row13_col12\" class=\"data row13 col12\" >-0.051258</td>\n",
       "      <td id=\"T_00046_row13_col13\" class=\"data row13 col13\" >1.000000</td>\n",
       "      <td id=\"T_00046_row13_col14\" class=\"data row13 col14\" >-0.041904</td>\n",
       "      <td id=\"T_00046_row13_col15\" class=\"data row13 col15\" >-0.018231</td>\n",
       "      <td id=\"T_00046_row13_col16\" class=\"data row13 col16\" >-0.025388</td>\n",
       "      <td id=\"T_00046_row13_col17\" class=\"data row13 col17\" >-0.003064</td>\n",
       "      <td id=\"T_00046_row13_col18\" class=\"data row13 col18\" >-0.021084</td>\n",
       "      <td id=\"T_00046_row13_col19\" class=\"data row13 col19\" >-0.060532</td>\n",
       "      <td id=\"T_00046_row13_col20\" class=\"data row13 col20\" >0.039353</td>\n",
       "      <td id=\"T_00046_row13_col21\" class=\"data row13 col21\" >0.006825</td>\n",
       "      <td id=\"T_00046_row13_col22\" class=\"data row13 col22\" >-0.017631</td>\n",
       "      <td id=\"T_00046_row13_col23\" class=\"data row13 col23\" >-0.008109</td>\n",
       "      <td id=\"T_00046_row13_col24\" class=\"data row13 col24\" >0.211358</td>\n",
       "      <td id=\"T_00046_row13_col25\" class=\"data row13 col25\" >-0.023313</td>\n",
       "      <td id=\"T_00046_row13_col26\" class=\"data row13 col26\" >-0.013413</td>\n",
       "    </tr>\n",
       "    <tr>\n",
       "      <th id=\"T_00046_level0_row14\" class=\"row_heading level0 row14\" >Music</th>\n",
       "      <td id=\"T_00046_row14_col0\" class=\"data row14 col0\" >-0.018818</td>\n",
       "      <td id=\"T_00046_row14_col1\" class=\"data row14 col1\" >-0.072507</td>\n",
       "      <td id=\"T_00046_row14_col2\" class=\"data row14 col2\" >-0.058061</td>\n",
       "      <td id=\"T_00046_row14_col3\" class=\"data row14 col3\" >-0.034619</td>\n",
       "      <td id=\"T_00046_row14_col4\" class=\"data row14 col4\" >0.001854</td>\n",
       "      <td id=\"T_00046_row14_col5\" class=\"data row14 col5\" >-0.025543</td>\n",
       "      <td id=\"T_00046_row14_col6\" class=\"data row14 col6\" >-0.080817</td>\n",
       "      <td id=\"T_00046_row14_col7\" class=\"data row14 col7\" >0.008829</td>\n",
       "      <td id=\"T_00046_row14_col8\" class=\"data row14 col8\" >0.024289</td>\n",
       "      <td id=\"T_00046_row14_col9\" class=\"data row14 col9\" >-0.011657</td>\n",
       "      <td id=\"T_00046_row14_col10\" class=\"data row14 col10\" >-0.049367</td>\n",
       "      <td id=\"T_00046_row14_col11\" class=\"data row14 col11\" >0.277609</td>\n",
       "      <td id=\"T_00046_row14_col12\" class=\"data row14 col12\" >-0.023720</td>\n",
       "      <td id=\"T_00046_row14_col13\" class=\"data row14 col13\" >-0.041904</td>\n",
       "      <td id=\"T_00046_row14_col14\" class=\"data row14 col14\" >1.000000</td>\n",
       "      <td id=\"T_00046_row14_col15\" class=\"data row14 col15\" >0.121787</td>\n",
       "      <td id=\"T_00046_row14_col16\" class=\"data row14 col16\" >-0.061116</td>\n",
       "      <td id=\"T_00046_row14_col17\" class=\"data row14 col17\" >-0.001418</td>\n",
       "      <td id=\"T_00046_row14_col18\" class=\"data row14 col18\" >0.280845</td>\n",
       "      <td id=\"T_00046_row14_col19\" class=\"data row14 col19\" >0.101930</td>\n",
       "      <td id=\"T_00046_row14_col20\" class=\"data row14 col20\" >-0.043774</td>\n",
       "      <td id=\"T_00046_row14_col21\" class=\"data row14 col21\" >0.021331</td>\n",
       "      <td id=\"T_00046_row14_col22\" class=\"data row14 col22\" >-0.008159</td>\n",
       "      <td id=\"T_00046_row14_col23\" class=\"data row14 col23\" >-0.003753</td>\n",
       "      <td id=\"T_00046_row14_col24\" class=\"data row14 col24\" >-0.046853</td>\n",
       "      <td id=\"T_00046_row14_col25\" class=\"data row14 col25\" >-0.011820</td>\n",
       "      <td id=\"T_00046_row14_col26\" class=\"data row14 col26\" >-0.008929</td>\n",
       "    </tr>\n",
       "    <tr>\n",
       "      <th id=\"T_00046_level0_row15\" class=\"row_heading level0 row15\" >Musical</th>\n",
       "      <td id=\"T_00046_row15_col0\" class=\"data row15 col0\" >-0.009405</td>\n",
       "      <td id=\"T_00046_row15_col1\" class=\"data row15 col1\" >-0.036238</td>\n",
       "      <td id=\"T_00046_row15_col2\" class=\"data row15 col2\" >-0.029545</td>\n",
       "      <td id=\"T_00046_row15_col3\" class=\"data row15 col3\" >-0.017302</td>\n",
       "      <td id=\"T_00046_row15_col4\" class=\"data row15 col4\" >-0.010570</td>\n",
       "      <td id=\"T_00046_row15_col5\" class=\"data row15 col5\" >0.046280</td>\n",
       "      <td id=\"T_00046_row15_col6\" class=\"data row15 col6\" >-0.040392</td>\n",
       "      <td id=\"T_00046_row15_col7\" class=\"data row15 col7\" >-0.006243</td>\n",
       "      <td id=\"T_00046_row15_col8\" class=\"data row15 col8\" >0.000665</td>\n",
       "      <td id=\"T_00046_row15_col9\" class=\"data row15 col9\" >0.038379</td>\n",
       "      <td id=\"T_00046_row15_col10\" class=\"data row15 col10\" >-0.003287</td>\n",
       "      <td id=\"T_00046_row15_col11\" class=\"data row15 col11\" >-0.005972</td>\n",
       "      <td id=\"T_00046_row15_col12\" class=\"data row15 col12\" >-0.011855</td>\n",
       "      <td id=\"T_00046_row15_col13\" class=\"data row15 col13\" >-0.018231</td>\n",
       "      <td id=\"T_00046_row15_col14\" class=\"data row15 col14\" >0.121787</td>\n",
       "      <td id=\"T_00046_row15_col15\" class=\"data row15 col15\" >1.000000</td>\n",
       "      <td id=\"T_00046_row15_col16\" class=\"data row15 col16\" >-0.030545</td>\n",
       "      <td id=\"T_00046_row15_col17\" class=\"data row15 col17\" >-0.000709</td>\n",
       "      <td id=\"T_00046_row15_col18\" class=\"data row15 col18\" >-0.005907</td>\n",
       "      <td id=\"T_00046_row15_col19\" class=\"data row15 col19\" >0.004751</td>\n",
       "      <td id=\"T_00046_row15_col20\" class=\"data row15 col20\" >-0.021878</td>\n",
       "      <td id=\"T_00046_row15_col21\" class=\"data row15 col21\" >-0.001121</td>\n",
       "      <td id=\"T_00046_row15_col22\" class=\"data row15 col22\" >-0.004078</td>\n",
       "      <td id=\"T_00046_row15_col23\" class=\"data row15 col23\" >-0.001875</td>\n",
       "      <td id=\"T_00046_row15_col24\" class=\"data row15 col24\" >-0.020941</td>\n",
       "      <td id=\"T_00046_row15_col25\" class=\"data row15 col25\" >-0.005907</td>\n",
       "      <td id=\"T_00046_row15_col26\" class=\"data row15 col26\" >-0.004463</td>\n",
       "    </tr>\n",
       "    <tr>\n",
       "      <th id=\"T_00046_level0_row16\" class=\"row_heading level0 row16\" >Mystery</th>\n",
       "      <td id=\"T_00046_row16_col0\" class=\"data row16 col0\" >-0.059309</td>\n",
       "      <td id=\"T_00046_row16_col1\" class=\"data row16 col1\" >-0.219238</td>\n",
       "      <td id=\"T_00046_row16_col2\" class=\"data row16 col2\" >-0.154989</td>\n",
       "      <td id=\"T_00046_row16_col3\" class=\"data row16 col3\" >-0.104297</td>\n",
       "      <td id=\"T_00046_row16_col4\" class=\"data row16 col4\" >-0.066657</td>\n",
       "      <td id=\"T_00046_row16_col5\" class=\"data row16 col5\" >-0.185872</td>\n",
       "      <td id=\"T_00046_row16_col6\" class=\"data row16 col6\" >0.337380</td>\n",
       "      <td id=\"T_00046_row16_col7\" class=\"data row16 col7\" >-0.039369</td>\n",
       "      <td id=\"T_00046_row16_col8\" class=\"data row16 col8\" >0.184076</td>\n",
       "      <td id=\"T_00046_row16_col9\" class=\"data row16 col9\" >-0.060441</td>\n",
       "      <td id=\"T_00046_row16_col10\" class=\"data row16 col10\" >-0.086715</td>\n",
       "      <td id=\"T_00046_row16_col11\" class=\"data row16 col11\" >-0.037658</td>\n",
       "      <td id=\"T_00046_row16_col12\" class=\"data row16 col12\" >-0.074758</td>\n",
       "      <td id=\"T_00046_row16_col13\" class=\"data row16 col13\" >-0.025388</td>\n",
       "      <td id=\"T_00046_row16_col14\" class=\"data row16 col14\" >-0.061116</td>\n",
       "      <td id=\"T_00046_row16_col15\" class=\"data row16 col15\" >-0.030545</td>\n",
       "      <td id=\"T_00046_row16_col16\" class=\"data row16 col16\" >1.000000</td>\n",
       "      <td id=\"T_00046_row16_col17\" class=\"data row16 col17\" >-0.004469</td>\n",
       "      <td id=\"T_00046_row16_col18\" class=\"data row16 col18\" >-0.037252</td>\n",
       "      <td id=\"T_00046_row16_col19\" class=\"data row16 col19\" >-0.086114</td>\n",
       "      <td id=\"T_00046_row16_col20\" class=\"data row16 col20\" >0.117561</td>\n",
       "      <td id=\"T_00046_row16_col21\" class=\"data row16 col21\" >-0.007066</td>\n",
       "      <td id=\"T_00046_row16_col22\" class=\"data row16 col22\" >-0.025714</td>\n",
       "      <td id=\"T_00046_row16_col23\" class=\"data row16 col23\" >-0.011827</td>\n",
       "      <td id=\"T_00046_row16_col24\" class=\"data row16 col24\" >-0.079166</td>\n",
       "      <td id=\"T_00046_row16_col25\" class=\"data row16 col25\" >-0.037252</td>\n",
       "      <td id=\"T_00046_row16_col26\" class=\"data row16 col26\" >-0.028142</td>\n",
       "    </tr>\n",
       "    <tr>\n",
       "      <th id=\"T_00046_level0_row17\" class=\"row_heading level0 row17\" >News</th>\n",
       "      <td id=\"T_00046_row17_col0\" class=\"data row17 col0\" >-0.001376</td>\n",
       "      <td id=\"T_00046_row17_col1\" class=\"data row17 col1\" >-0.005302</td>\n",
       "      <td id=\"T_00046_row17_col2\" class=\"data row17 col2\" >-0.004322</td>\n",
       "      <td id=\"T_00046_row17_col3\" class=\"data row17 col3\" >-0.002531</td>\n",
       "      <td id=\"T_00046_row17_col4\" class=\"data row17 col4\" >-0.001546</td>\n",
       "      <td id=\"T_00046_row17_col5\" class=\"data row17 col5\" >-0.005754</td>\n",
       "      <td id=\"T_00046_row17_col6\" class=\"data row17 col6\" >-0.005909</td>\n",
       "      <td id=\"T_00046_row17_col7\" class=\"data row17 col7\" >0.113511</td>\n",
       "      <td id=\"T_00046_row17_col8\" class=\"data row17 col8\" >-0.014605</td>\n",
       "      <td id=\"T_00046_row17_col9\" class=\"data row17 col9\" >-0.001449</td>\n",
       "      <td id=\"T_00046_row17_col10\" class=\"data row17 col10\" >-0.003610</td>\n",
       "      <td id=\"T_00046_row17_col11\" class=\"data row17 col11\" >-0.000874</td>\n",
       "      <td id=\"T_00046_row17_col12\" class=\"data row17 col12\" >0.029021</td>\n",
       "      <td id=\"T_00046_row17_col13\" class=\"data row17 col13\" >-0.003064</td>\n",
       "      <td id=\"T_00046_row17_col14\" class=\"data row17 col14\" >-0.001418</td>\n",
       "      <td id=\"T_00046_row17_col15\" class=\"data row17 col15\" >-0.000709</td>\n",
       "      <td id=\"T_00046_row17_col16\" class=\"data row17 col16\" >-0.004469</td>\n",
       "      <td id=\"T_00046_row17_col17\" class=\"data row17 col17\" >1.000000</td>\n",
       "      <td id=\"T_00046_row17_col18\" class=\"data row17 col18\" >-0.000864</td>\n",
       "      <td id=\"T_00046_row17_col19\" class=\"data row17 col19\" >-0.002970</td>\n",
       "      <td id=\"T_00046_row17_col20\" class=\"data row17 col20\" >-0.003201</td>\n",
       "      <td id=\"T_00046_row17_col21\" class=\"data row17 col21\" >-0.000164</td>\n",
       "      <td id=\"T_00046_row17_col22\" class=\"data row17 col22\" >-0.000597</td>\n",
       "      <td id=\"T_00046_row17_col23\" class=\"data row17 col23\" >-0.000274</td>\n",
       "      <td id=\"T_00046_row17_col24\" class=\"data row17 col24\" >-0.003426</td>\n",
       "      <td id=\"T_00046_row17_col25\" class=\"data row17 col25\" >-0.000864</td>\n",
       "      <td id=\"T_00046_row17_col26\" class=\"data row17 col26\" >-0.000653</td>\n",
       "    </tr>\n",
       "    <tr>\n",
       "      <th id=\"T_00046_level0_row18\" class=\"row_heading level0 row18\" >Reality-TV</th>\n",
       "      <td id=\"T_00046_row18_col0\" class=\"data row18 col0\" >-0.011470</td>\n",
       "      <td id=\"T_00046_row18_col1\" class=\"data row18 col1\" >-0.044195</td>\n",
       "      <td id=\"T_00046_row18_col2\" class=\"data row18 col2\" >-0.008673</td>\n",
       "      <td id=\"T_00046_row18_col3\" class=\"data row18 col3\" >-0.021101</td>\n",
       "      <td id=\"T_00046_row18_col4\" class=\"data row18 col4\" >-0.012891</td>\n",
       "      <td id=\"T_00046_row18_col5\" class=\"data row18 col5\" >-0.045095</td>\n",
       "      <td id=\"T_00046_row18_col6\" class=\"data row18 col6\" >-0.049260</td>\n",
       "      <td id=\"T_00046_row18_col7\" class=\"data row18 col7\" >-0.007614</td>\n",
       "      <td id=\"T_00046_row18_col8\" class=\"data row18 col8\" >-0.121751</td>\n",
       "      <td id=\"T_00046_row18_col9\" class=\"data row18 col9\" >-0.012080</td>\n",
       "      <td id=\"T_00046_row18_col10\" class=\"data row18 col10\" >-0.030090</td>\n",
       "      <td id=\"T_00046_row18_col11\" class=\"data row18 col11\" >0.909795</td>\n",
       "      <td id=\"T_00046_row18_col12\" class=\"data row18 col12\" >-0.014458</td>\n",
       "      <td id=\"T_00046_row18_col13\" class=\"data row18 col13\" >-0.021084</td>\n",
       "      <td id=\"T_00046_row18_col14\" class=\"data row18 col14\" >0.280845</td>\n",
       "      <td id=\"T_00046_row18_col15\" class=\"data row18 col15\" >-0.005907</td>\n",
       "      <td id=\"T_00046_row18_col16\" class=\"data row18 col16\" >-0.037252</td>\n",
       "      <td id=\"T_00046_row18_col17\" class=\"data row18 col17\" >-0.000864</td>\n",
       "      <td id=\"T_00046_row18_col18\" class=\"data row18 col18\" >1.000000</td>\n",
       "      <td id=\"T_00046_row18_col19\" class=\"data row18 col19\" >-0.024760</td>\n",
       "      <td id=\"T_00046_row18_col20\" class=\"data row18 col20\" >-0.026682</td>\n",
       "      <td id=\"T_00046_row18_col21\" class=\"data row18 col21\" >-0.001367</td>\n",
       "      <td id=\"T_00046_row18_col22\" class=\"data row18 col22\" >-0.004973</td>\n",
       "      <td id=\"T_00046_row18_col23\" class=\"data row18 col23\" >-0.002287</td>\n",
       "      <td id=\"T_00046_row18_col24\" class=\"data row18 col24\" >-0.028559</td>\n",
       "      <td id=\"T_00046_row18_col25\" class=\"data row18 col25\" >-0.007204</td>\n",
       "      <td id=\"T_00046_row18_col26\" class=\"data row18 col26\" >-0.005443</td>\n",
       "    </tr>\n",
       "    <tr>\n",
       "      <th id=\"T_00046_level0_row19\" class=\"row_heading level0 row19\" >Romance</th>\n",
       "      <td id=\"T_00046_row19_col0\" class=\"data row19 col0\" >-0.039420</td>\n",
       "      <td id=\"T_00046_row19_col1\" class=\"data row19 col1\" >-0.092115</td>\n",
       "      <td id=\"T_00046_row19_col2\" class=\"data row19 col2\" >-0.071843</td>\n",
       "      <td id=\"T_00046_row19_col3\" class=\"data row19 col3\" >-0.072521</td>\n",
       "      <td id=\"T_00046_row19_col4\" class=\"data row19 col4\" >-0.028720</td>\n",
       "      <td id=\"T_00046_row19_col5\" class=\"data row19 col5\" >0.092622</td>\n",
       "      <td id=\"T_00046_row19_col6\" class=\"data row19 col6\" >-0.167966</td>\n",
       "      <td id=\"T_00046_row19_col7\" class=\"data row19 col7\" >-0.026167</td>\n",
       "      <td id=\"T_00046_row19_col8\" class=\"data row19 col8\" >-0.012393</td>\n",
       "      <td id=\"T_00046_row19_col9\" class=\"data row19 col9\" >-0.008343</td>\n",
       "      <td id=\"T_00046_row19_col10\" class=\"data row19 col10\" >0.019639</td>\n",
       "      <td id=\"T_00046_row19_col11\" class=\"data row19 col11\" >-0.025030</td>\n",
       "      <td id=\"T_00046_row19_col12\" class=\"data row19 col12\" >0.023689</td>\n",
       "      <td id=\"T_00046_row19_col13\" class=\"data row19 col13\" >-0.060532</td>\n",
       "      <td id=\"T_00046_row19_col14\" class=\"data row19 col14\" >0.101930</td>\n",
       "      <td id=\"T_00046_row19_col15\" class=\"data row19 col15\" >0.004751</td>\n",
       "      <td id=\"T_00046_row19_col16\" class=\"data row19 col16\" >-0.086114</td>\n",
       "      <td id=\"T_00046_row19_col17\" class=\"data row19 col17\" >-0.002970</td>\n",
       "      <td id=\"T_00046_row19_col18\" class=\"data row19 col18\" >-0.024760</td>\n",
       "      <td id=\"T_00046_row19_col19\" class=\"data row19 col19\" >1.000000</td>\n",
       "      <td id=\"T_00046_row19_col20\" class=\"data row19 col20\" >-0.038457</td>\n",
       "      <td id=\"T_00046_row19_col21\" class=\"data row19 col21\" >0.007281</td>\n",
       "      <td id=\"T_00046_row19_col22\" class=\"data row19 col22\" >-0.010487</td>\n",
       "      <td id=\"T_00046_row19_col23\" class=\"data row19 col23\" >-0.007861</td>\n",
       "      <td id=\"T_00046_row19_col24\" class=\"data row19 col24\" >-0.084754</td>\n",
       "      <td id=\"T_00046_row19_col25\" class=\"data row19 col25\" >-0.008745</td>\n",
       "      <td id=\"T_00046_row19_col26\" class=\"data row19 col26\" >-0.018705</td>\n",
       "    </tr>\n",
       "    <tr>\n",
       "      <th id=\"T_00046_level0_row20\" class=\"row_heading level0 row20\" >Sci-Fi</th>\n",
       "      <td id=\"T_00046_row20_col0\" class=\"data row20 col0\" >-0.042480</td>\n",
       "      <td id=\"T_00046_row20_col1\" class=\"data row20 col1\" >0.071185</td>\n",
       "      <td id=\"T_00046_row20_col2\" class=\"data row20 col2\" >0.007590</td>\n",
       "      <td id=\"T_00046_row20_col3\" class=\"data row20 col3\" >-0.061899</td>\n",
       "      <td id=\"T_00046_row20_col4\" class=\"data row20 col4\" >-0.047743</td>\n",
       "      <td id=\"T_00046_row20_col5\" class=\"data row20 col5\" >-0.170454</td>\n",
       "      <td id=\"T_00046_row20_col6\" class=\"data row20 col6\" >-0.117332</td>\n",
       "      <td id=\"T_00046_row20_col7\" class=\"data row20 col7\" >-0.005801</td>\n",
       "      <td id=\"T_00046_row20_col8\" class=\"data row20 col8\" >0.025277</td>\n",
       "      <td id=\"T_00046_row20_col9\" class=\"data row20 col9\" >-0.043438</td>\n",
       "      <td id=\"T_00046_row20_col10\" class=\"data row20 col10\" >-0.064265</td>\n",
       "      <td id=\"T_00046_row20_col11\" class=\"data row20 col11\" >-0.026972</td>\n",
       "      <td id=\"T_00046_row20_col12\" class=\"data row20 col12\" >-0.042600</td>\n",
       "      <td id=\"T_00046_row20_col13\" class=\"data row20 col13\" >0.039353</td>\n",
       "      <td id=\"T_00046_row20_col14\" class=\"data row20 col14\" >-0.043774</td>\n",
       "      <td id=\"T_00046_row20_col15\" class=\"data row20 col15\" >-0.021878</td>\n",
       "      <td id=\"T_00046_row20_col16\" class=\"data row20 col16\" >0.117561</td>\n",
       "      <td id=\"T_00046_row20_col17\" class=\"data row20 col17\" >-0.003201</td>\n",
       "      <td id=\"T_00046_row20_col18\" class=\"data row20 col18\" >-0.026682</td>\n",
       "      <td id=\"T_00046_row20_col19\" class=\"data row20 col19\" >-0.038457</td>\n",
       "      <td id=\"T_00046_row20_col20\" class=\"data row20 col20\" >1.000000</td>\n",
       "      <td id=\"T_00046_row20_col21\" class=\"data row20 col21\" >-0.005061</td>\n",
       "      <td id=\"T_00046_row20_col22\" class=\"data row20 col22\" >-0.018417</td>\n",
       "      <td id=\"T_00046_row20_col23\" class=\"data row20 col23\" >-0.008471</td>\n",
       "      <td id=\"T_00046_row20_col24\" class=\"data row20 col24\" >-0.004460</td>\n",
       "      <td id=\"T_00046_row20_col25\" class=\"data row20 col25\" >-0.026682</td>\n",
       "      <td id=\"T_00046_row20_col26\" class=\"data row20 col26\" >-0.020157</td>\n",
       "    </tr>\n",
       "    <tr>\n",
       "      <th id=\"T_00046_level0_row21\" class=\"row_heading level0 row21\" >Short</th>\n",
       "      <td id=\"T_00046_row21_col0\" class=\"data row21 col0\" >-0.002176</td>\n",
       "      <td id=\"T_00046_row21_col1\" class=\"data row21 col1\" >0.007339</td>\n",
       "      <td id=\"T_00046_row21_col2\" class=\"data row21 col2\" >-0.006835</td>\n",
       "      <td id=\"T_00046_row21_col3\" class=\"data row21 col3\" >-0.004003</td>\n",
       "      <td id=\"T_00046_row21_col4\" class=\"data row21 col4\" >-0.002445</td>\n",
       "      <td id=\"T_00046_row21_col5\" class=\"data row21 col5\" >-0.009099</td>\n",
       "      <td id=\"T_00046_row21_col6\" class=\"data row21 col6\" >-0.009344</td>\n",
       "      <td id=\"T_00046_row21_col7\" class=\"data row21 col7\" >0.034743</td>\n",
       "      <td id=\"T_00046_row21_col8\" class=\"data row21 col8\" >-0.016231</td>\n",
       "      <td id=\"T_00046_row21_col9\" class=\"data row21 col9\" >-0.002291</td>\n",
       "      <td id=\"T_00046_row21_col10\" class=\"data row21 col10\" >-0.005708</td>\n",
       "      <td id=\"T_00046_row21_col11\" class=\"data row21 col11\" >-0.001381</td>\n",
       "      <td id=\"T_00046_row21_col12\" class=\"data row21 col12\" >-0.002743</td>\n",
       "      <td id=\"T_00046_row21_col13\" class=\"data row21 col13\" >0.006825</td>\n",
       "      <td id=\"T_00046_row21_col14\" class=\"data row21 col14\" >0.021331</td>\n",
       "      <td id=\"T_00046_row21_col15\" class=\"data row21 col15\" >-0.001121</td>\n",
       "      <td id=\"T_00046_row21_col16\" class=\"data row21 col16\" >-0.007066</td>\n",
       "      <td id=\"T_00046_row21_col17\" class=\"data row21 col17\" >-0.000164</td>\n",
       "      <td id=\"T_00046_row21_col18\" class=\"data row21 col18\" >-0.001367</td>\n",
       "      <td id=\"T_00046_row21_col19\" class=\"data row21 col19\" >0.007281</td>\n",
       "      <td id=\"T_00046_row21_col20\" class=\"data row21 col20\" >-0.005061</td>\n",
       "      <td id=\"T_00046_row21_col21\" class=\"data row21 col21\" >1.000000</td>\n",
       "      <td id=\"T_00046_row21_col22\" class=\"data row21 col22\" >-0.000943</td>\n",
       "      <td id=\"T_00046_row21_col23\" class=\"data row21 col23\" >-0.000434</td>\n",
       "      <td id=\"T_00046_row21_col24\" class=\"data row21 col24\" >-0.005417</td>\n",
       "      <td id=\"T_00046_row21_col25\" class=\"data row21 col25\" >-0.001367</td>\n",
       "      <td id=\"T_00046_row21_col26\" class=\"data row21 col26\" >-0.001032</td>\n",
       "    </tr>\n",
       "    <tr>\n",
       "      <th id=\"T_00046_level0_row22\" class=\"row_heading level0 row22\" >Sport</th>\n",
       "      <td id=\"T_00046_row22_col0\" class=\"data row22 col0\" >-0.007917</td>\n",
       "      <td id=\"T_00046_row22_col1\" class=\"data row22 col1\" >-0.021838</td>\n",
       "      <td id=\"T_00046_row22_col2\" class=\"data row22 col2\" >-0.022404</td>\n",
       "      <td id=\"T_00046_row22_col3\" class=\"data row22 col3\" >-0.014566</td>\n",
       "      <td id=\"T_00046_row22_col4\" class=\"data row22 col4\" >0.098736</td>\n",
       "      <td id=\"T_00046_row22_col5\" class=\"data row22 col5\" >0.033210</td>\n",
       "      <td id=\"T_00046_row22_col6\" class=\"data row22 col6\" >-0.034003</td>\n",
       "      <td id=\"T_00046_row22_col7\" class=\"data row22 col7\" >0.054600</td>\n",
       "      <td id=\"T_00046_row22_col8\" class=\"data row22 col8\" >0.014354</td>\n",
       "      <td id=\"T_00046_row22_col9\" class=\"data row22 col9\" >0.017118</td>\n",
       "      <td id=\"T_00046_row22_col10\" class=\"data row22 col10\" >-0.020770</td>\n",
       "      <td id=\"T_00046_row22_col11\" class=\"data row22 col11\" >-0.005027</td>\n",
       "      <td id=\"T_00046_row22_col12\" class=\"data row22 col12\" >-0.009980</td>\n",
       "      <td id=\"T_00046_row22_col13\" class=\"data row22 col13\" >-0.017631</td>\n",
       "      <td id=\"T_00046_row22_col14\" class=\"data row22 col14\" >-0.008159</td>\n",
       "      <td id=\"T_00046_row22_col15\" class=\"data row22 col15\" >-0.004078</td>\n",
       "      <td id=\"T_00046_row22_col16\" class=\"data row22 col16\" >-0.025714</td>\n",
       "      <td id=\"T_00046_row22_col17\" class=\"data row22 col17\" >-0.000597</td>\n",
       "      <td id=\"T_00046_row22_col18\" class=\"data row22 col18\" >-0.004973</td>\n",
       "      <td id=\"T_00046_row22_col19\" class=\"data row22 col19\" >-0.010487</td>\n",
       "      <td id=\"T_00046_row22_col20\" class=\"data row22 col20\" >-0.018417</td>\n",
       "      <td id=\"T_00046_row22_col21\" class=\"data row22 col21\" >-0.000943</td>\n",
       "      <td id=\"T_00046_row22_col22\" class=\"data row22 col22\" >1.000000</td>\n",
       "      <td id=\"T_00046_row22_col23\" class=\"data row22 col23\" >-0.001579</td>\n",
       "      <td id=\"T_00046_row22_col24\" class=\"data row22 col24\" >-0.019713</td>\n",
       "      <td id=\"T_00046_row22_col25\" class=\"data row22 col25\" >-0.004973</td>\n",
       "      <td id=\"T_00046_row22_col26\" class=\"data row22 col26\" >-0.003757</td>\n",
       "    </tr>\n",
       "    <tr>\n",
       "      <th id=\"T_00046_level0_row23\" class=\"row_heading level0 row23\" >Talk-Show</th>\n",
       "      <td id=\"T_00046_row23_col0\" class=\"data row23 col0\" >-0.003642</td>\n",
       "      <td id=\"T_00046_row23_col1\" class=\"data row23 col1\" >-0.014031</td>\n",
       "      <td id=\"T_00046_row23_col2\" class=\"data row23 col2\" >-0.011440</td>\n",
       "      <td id=\"T_00046_row23_col3\" class=\"data row23 col3\" >-0.006699</td>\n",
       "      <td id=\"T_00046_row23_col4\" class=\"data row23 col4\" >-0.004093</td>\n",
       "      <td id=\"T_00046_row23_col5\" class=\"data row23 col5\" >0.047685</td>\n",
       "      <td id=\"T_00046_row23_col6\" class=\"data row23 col6\" >-0.015639</td>\n",
       "      <td id=\"T_00046_row23_col7\" class=\"data row23 col7\" >-0.002417</td>\n",
       "      <td id=\"T_00046_row23_col8\" class=\"data row23 col8\" >-0.038654</td>\n",
       "      <td id=\"T_00046_row23_col9\" class=\"data row23 col9\" >-0.003835</td>\n",
       "      <td id=\"T_00046_row23_col10\" class=\"data row23 col10\" >-0.009553</td>\n",
       "      <td id=\"T_00046_row23_col11\" class=\"data row23 col11\" >-0.002312</td>\n",
       "      <td id=\"T_00046_row23_col12\" class=\"data row23 col12\" >-0.004590</td>\n",
       "      <td id=\"T_00046_row23_col13\" class=\"data row23 col13\" >-0.008109</td>\n",
       "      <td id=\"T_00046_row23_col14\" class=\"data row23 col14\" >-0.003753</td>\n",
       "      <td id=\"T_00046_row23_col15\" class=\"data row23 col15\" >-0.001875</td>\n",
       "      <td id=\"T_00046_row23_col16\" class=\"data row23 col16\" >-0.011827</td>\n",
       "      <td id=\"T_00046_row23_col17\" class=\"data row23 col17\" >-0.000274</td>\n",
       "      <td id=\"T_00046_row23_col18\" class=\"data row23 col18\" >-0.002287</td>\n",
       "      <td id=\"T_00046_row23_col19\" class=\"data row23 col19\" >-0.007861</td>\n",
       "      <td id=\"T_00046_row23_col20\" class=\"data row23 col20\" >-0.008471</td>\n",
       "      <td id=\"T_00046_row23_col21\" class=\"data row23 col21\" >-0.000434</td>\n",
       "      <td id=\"T_00046_row23_col22\" class=\"data row23 col22\" >-0.001579</td>\n",
       "      <td id=\"T_00046_row23_col23\" class=\"data row23 col23\" >1.000000</td>\n",
       "      <td id=\"T_00046_row23_col24\" class=\"data row23 col24\" >-0.009067</td>\n",
       "      <td id=\"T_00046_row23_col25\" class=\"data row23 col25\" >-0.002287</td>\n",
       "      <td id=\"T_00046_row23_col26\" class=\"data row23 col26\" >-0.001728</td>\n",
       "    </tr>\n",
       "    <tr>\n",
       "      <th id=\"T_00046_level0_row24\" class=\"row_heading level0 row24\" >Thriller</th>\n",
       "      <td id=\"T_00046_row24_col0\" class=\"data row24 col0\" >-0.045468</td>\n",
       "      <td id=\"T_00046_row24_col1\" class=\"data row24 col1\" >-0.080160</td>\n",
       "      <td id=\"T_00046_row24_col2\" class=\"data row24 col2\" >-0.127579</td>\n",
       "      <td id=\"T_00046_row24_col3\" class=\"data row24 col3\" >-0.083647</td>\n",
       "      <td id=\"T_00046_row24_col4\" class=\"data row24 col4\" >-0.025688</td>\n",
       "      <td id=\"T_00046_row24_col5\" class=\"data row24 col5\" >-0.175328</td>\n",
       "      <td id=\"T_00046_row24_col6\" class=\"data row24 col6\" >0.022382</td>\n",
       "      <td id=\"T_00046_row24_col7\" class=\"data row24 col7\" >-0.028254</td>\n",
       "      <td id=\"T_00046_row24_col8\" class=\"data row24 col8\" >0.049602</td>\n",
       "      <td id=\"T_00046_row24_col9\" class=\"data row24 col9\" >-0.047884</td>\n",
       "      <td id=\"T_00046_row24_col10\" class=\"data row24 col10\" >-0.091509</td>\n",
       "      <td id=\"T_00046_row24_col11\" class=\"data row24 col11\" >-0.028870</td>\n",
       "      <td id=\"T_00046_row24_col12\" class=\"data row24 col12\" >-0.055240</td>\n",
       "      <td id=\"T_00046_row24_col13\" class=\"data row24 col13\" >0.211358</td>\n",
       "      <td id=\"T_00046_row24_col14\" class=\"data row24 col14\" >-0.046853</td>\n",
       "      <td id=\"T_00046_row24_col15\" class=\"data row24 col15\" >-0.020941</td>\n",
       "      <td id=\"T_00046_row24_col16\" class=\"data row24 col16\" >-0.079166</td>\n",
       "      <td id=\"T_00046_row24_col17\" class=\"data row24 col17\" >-0.003426</td>\n",
       "      <td id=\"T_00046_row24_col18\" class=\"data row24 col18\" >-0.028559</td>\n",
       "      <td id=\"T_00046_row24_col19\" class=\"data row24 col19\" >-0.084754</td>\n",
       "      <td id=\"T_00046_row24_col20\" class=\"data row24 col20\" >-0.004460</td>\n",
       "      <td id=\"T_00046_row24_col21\" class=\"data row24 col21\" >-0.005417</td>\n",
       "      <td id=\"T_00046_row24_col22\" class=\"data row24 col22\" >-0.019713</td>\n",
       "      <td id=\"T_00046_row24_col23\" class=\"data row24 col23\" >-0.009067</td>\n",
       "      <td id=\"T_00046_row24_col24\" class=\"data row24 col24\" >1.000000</td>\n",
       "      <td id=\"T_00046_row24_col25\" class=\"data row24 col25\" >-0.014314</td>\n",
       "      <td id=\"T_00046_row24_col26\" class=\"data row24 col26\" >-0.008147</td>\n",
       "    </tr>\n",
       "    <tr>\n",
       "      <th id=\"T_00046_level0_row25\" class=\"row_heading level0 row25\" >War</th>\n",
       "      <td id=\"T_00046_row25_col0\" class=\"data row25 col0\" >-0.011470</td>\n",
       "      <td id=\"T_00046_row25_col1\" class=\"data row25 col1\" >-0.027679</td>\n",
       "      <td id=\"T_00046_row25_col2\" class=\"data row25 col2\" >-0.036033</td>\n",
       "      <td id=\"T_00046_row25_col3\" class=\"data row25 col3\" >-0.021101</td>\n",
       "      <td id=\"T_00046_row25_col4\" class=\"data row25 col4\" >-0.012891</td>\n",
       "      <td id=\"T_00046_row25_col5\" class=\"data row25 col5\" >-0.043659</td>\n",
       "      <td id=\"T_00046_row25_col6\" class=\"data row25 col6\" >-0.049260</td>\n",
       "      <td id=\"T_00046_row25_col7\" class=\"data row25 col7\" >-0.007614</td>\n",
       "      <td id=\"T_00046_row25_col8\" class=\"data row25 col8\" >0.039508</td>\n",
       "      <td id=\"T_00046_row25_col9\" class=\"data row25 col9\" >-0.012080</td>\n",
       "      <td id=\"T_00046_row25_col10\" class=\"data row25 col10\" >-0.030090</td>\n",
       "      <td id=\"T_00046_row25_col11\" class=\"data row25 col11\" >-0.007283</td>\n",
       "      <td id=\"T_00046_row25_col12\" class=\"data row25 col12\" >0.018983</td>\n",
       "      <td id=\"T_00046_row25_col13\" class=\"data row25 col13\" >-0.023313</td>\n",
       "      <td id=\"T_00046_row25_col14\" class=\"data row25 col14\" >-0.011820</td>\n",
       "      <td id=\"T_00046_row25_col15\" class=\"data row25 col15\" >-0.005907</td>\n",
       "      <td id=\"T_00046_row25_col16\" class=\"data row25 col16\" >-0.037252</td>\n",
       "      <td id=\"T_00046_row25_col17\" class=\"data row25 col17\" >-0.000864</td>\n",
       "      <td id=\"T_00046_row25_col18\" class=\"data row25 col18\" >-0.007204</td>\n",
       "      <td id=\"T_00046_row25_col19\" class=\"data row25 col19\" >-0.008745</td>\n",
       "      <td id=\"T_00046_row25_col20\" class=\"data row25 col20\" >-0.026682</td>\n",
       "      <td id=\"T_00046_row25_col21\" class=\"data row25 col21\" >-0.001367</td>\n",
       "      <td id=\"T_00046_row25_col22\" class=\"data row25 col22\" >-0.004973</td>\n",
       "      <td id=\"T_00046_row25_col23\" class=\"data row25 col23\" >-0.002287</td>\n",
       "      <td id=\"T_00046_row25_col24\" class=\"data row25 col24\" >-0.014314</td>\n",
       "      <td id=\"T_00046_row25_col25\" class=\"data row25 col25\" >1.000000</td>\n",
       "      <td id=\"T_00046_row25_col26\" class=\"data row25 col26\" >-0.005443</td>\n",
       "    </tr>\n",
       "    <tr>\n",
       "      <th id=\"T_00046_level0_row26\" class=\"row_heading level0 row26\" >Western</th>\n",
       "      <td id=\"T_00046_row26_col0\" class=\"data row26 col0\" >-0.008665</td>\n",
       "      <td id=\"T_00046_row26_col1\" class=\"data row26 col1\" >-0.023480</td>\n",
       "      <td id=\"T_00046_row26_col2\" class=\"data row26 col2\" >-0.015938</td>\n",
       "      <td id=\"T_00046_row26_col3\" class=\"data row26 col3\" >-0.015941</td>\n",
       "      <td id=\"T_00046_row26_col4\" class=\"data row26 col4\" >-0.009739</td>\n",
       "      <td id=\"T_00046_row26_col5\" class=\"data row26 col5\" >-0.032446</td>\n",
       "      <td id=\"T_00046_row26_col6\" class=\"data row26 col6\" >-0.037214</td>\n",
       "      <td id=\"T_00046_row26_col7\" class=\"data row26 col7\" >-0.005752</td>\n",
       "      <td id=\"T_00046_row26_col8\" class=\"data row26 col8\" >0.022211</td>\n",
       "      <td id=\"T_00046_row26_col9\" class=\"data row26 col9\" >-0.009126</td>\n",
       "      <td id=\"T_00046_row26_col10\" class=\"data row26 col10\" >-0.022732</td>\n",
       "      <td id=\"T_00046_row26_col11\" class=\"data row26 col11\" >-0.005502</td>\n",
       "      <td id=\"T_00046_row26_col12\" class=\"data row26 col12\" >-0.010922</td>\n",
       "      <td id=\"T_00046_row26_col13\" class=\"data row26 col13\" >-0.013413</td>\n",
       "      <td id=\"T_00046_row26_col14\" class=\"data row26 col14\" >-0.008929</td>\n",
       "      <td id=\"T_00046_row26_col15\" class=\"data row26 col15\" >-0.004463</td>\n",
       "      <td id=\"T_00046_row26_col16\" class=\"data row26 col16\" >-0.028142</td>\n",
       "      <td id=\"T_00046_row26_col17\" class=\"data row26 col17\" >-0.000653</td>\n",
       "      <td id=\"T_00046_row26_col18\" class=\"data row26 col18\" >-0.005443</td>\n",
       "      <td id=\"T_00046_row26_col19\" class=\"data row26 col19\" >-0.018705</td>\n",
       "      <td id=\"T_00046_row26_col20\" class=\"data row26 col20\" >-0.020157</td>\n",
       "      <td id=\"T_00046_row26_col21\" class=\"data row26 col21\" >-0.001032</td>\n",
       "      <td id=\"T_00046_row26_col22\" class=\"data row26 col22\" >-0.003757</td>\n",
       "      <td id=\"T_00046_row26_col23\" class=\"data row26 col23\" >-0.001728</td>\n",
       "      <td id=\"T_00046_row26_col24\" class=\"data row26 col24\" >-0.008147</td>\n",
       "      <td id=\"T_00046_row26_col25\" class=\"data row26 col25\" >-0.005443</td>\n",
       "      <td id=\"T_00046_row26_col26\" class=\"data row26 col26\" >1.000000</td>\n",
       "    </tr>\n",
       "  </tbody>\n",
       "</table>\n"
      ],
      "text/plain": [
       "<pandas.io.formats.style.Styler at 0x7f98b7924950>"
      ]
     },
     "execution_count": 16,
     "metadata": {},
     "output_type": "execute_result"
    }
   ],
   "source": [
    "corr = df.corr()\n",
    "corr.style.background_gradient(cmap='coolwarm')"
   ]
  },
  {
   "cell_type": "code",
   "execution_count": 18,
   "metadata": {
    "executionInfo": {
     "elapsed": 6,
     "status": "ok",
     "timestamp": 1655778123761,
     "user": {
      "displayName": "Joao Pedro Souza",
      "userId": "08820867277135559743"
     },
     "user_tz": 180
    },
    "id": "M4j875lmzbiB"
   },
   "outputs": [],
   "source": [
    "train, test = train_test_split(df, random_state=42, test_size=0.3, shuffle=True)"
   ]
  },
  {
   "cell_type": "code",
   "execution_count": null,
   "metadata": {
    "id": "gA03H8WIzdA8"
   },
   "outputs": [],
   "source": [
    "X_train_tfidf = vectorizer.transform(train.x)"
   ]
  },
  {
   "cell_type": "code",
   "execution_count": 19,
   "metadata": {
    "executionInfo": {
     "elapsed": 12574,
     "status": "ok",
     "timestamp": 1655778142234,
     "user": {
      "displayName": "Joao Pedro Souza",
      "userId": "08820867277135559743"
     },
     "user_tz": 180
    },
    "id": "AfniuzJeyZpg"
   },
   "outputs": [],
   "source": [
    "X_test_tfidf = vectorizer.transform(test.x)"
   ]
  },
  {
   "cell_type": "code",
   "execution_count": null,
   "metadata": {
    "id": "Dm_R3Hnozfrt"
   },
   "outputs": [],
   "source": [
    "# Buscando os hyperparametros\n",
    "\n",
    "text_clf = Pipeline([\n",
    "     ('clf', MultiOutputClassifier(RandomForestClassifier(random_state=42, n_jobs=-1), n_jobs=-1)),\n",
    " ])\n",
    "\n",
    "parameters = {\n",
    "    'clf__estimator__oob_score': [True, False],\n",
    "}\n",
    "gs_clf = GridSearchCV(text_clf, parameters, cv=5, n_jobs=-1, refit=True, verbose=10)"
   ]
  },
  {
   "cell_type": "code",
   "execution_count": null,
   "metadata": {
    "id": "rl4kSzQNzmbA"
   },
   "outputs": [],
   "source": [
    "# Treinando o modelo\n",
    "lim = int(X_train_tfidf.shape[0]*0.1)\n",
    "gs_clf = gs_clf.fit(X_train_tfidf[:lim], np.array(train[df.columns[2:]].values.tolist())[:lim])"
   ]
  },
  {
   "cell_type": "code",
   "execution_count": null,
   "metadata": {
    "id": "0wkEJOL6zpWt"
   },
   "outputs": [],
   "source": [
    "for param_name in sorted(parameters.keys()):\n",
    "    print(\"%s: %r\" % (param_name, gs_clf.best_params_[param_name]))"
   ]
  },
  {
   "cell_type": "code",
   "execution_count": null,
   "metadata": {
    "id": "pMye-THfukUm"
   },
   "outputs": [],
   "source": [
    "# Criando o modelo\n",
    "text_clf = Pipeline([\n",
    "     ('clf', MultiOutputClassifier(RandomForestClassifier(random_state=42, n_jobs=-1, oob_score=True), n_jobs=-1)),\n",
    " ])\n",
    "\n",
    "gs_clf = GridSearchCV(text_clf, {}, cv=5, n_jobs=-1, refit=True, verbose=1000)"
   ]
  },
  {
   "cell_type": "code",
   "execution_count": null,
   "metadata": {
    "id": "7PMC4ORhuqHK"
   },
   "outputs": [],
   "source": [
    "gs_clf = gs_clf.fit(X_train_tfidf, np.array(train[df.columns[2:]].values.tolist()))"
   ]
  },
  {
   "cell_type": "code",
   "execution_count": null,
   "metadata": {
    "id": "D6ffsZsyus8U"
   },
   "outputs": [],
   "source": [
    "# Salvando o modelo\n",
    "joblib.dump(gs_clf.best_estimator_, f\"/content/drive/MyDrive/Trabalho final BMT/modelo/RandomForestClassifier13505.pkl\")"
   ]
  },
  {
   "cell_type": "code",
   "execution_count": 22,
   "metadata": {
    "executionInfo": {
     "elapsed": 2579,
     "status": "ok",
     "timestamp": 1655778169598,
     "user": {
      "displayName": "Joao Pedro Souza",
      "userId": "08820867277135559743"
     },
     "user_tz": 180
    },
    "id": "keYE2YH4zut7"
   },
   "outputs": [],
   "source": [
    "# Carregando um modelo\n",
    "loaded_model = joblib.load(f\"/content/drive/MyDrive/Trabalho final BMT/modelo/RandomForestClassifier13505.pkl\")"
   ]
  },
  {
   "cell_type": "code",
   "execution_count": 23,
   "metadata": {
    "executionInfo": {
     "elapsed": 4095,
     "status": "ok",
     "timestamp": 1655778173686,
     "user": {
      "displayName": "Joao Pedro Souza",
      "userId": "08820867277135559743"
     },
     "user_tz": 180
    },
    "id": "t1dH25CiSVmv"
   },
   "outputs": [],
   "source": [
    "prediction = loaded_model.predict(X_test_tfidf[:10])"
   ]
  },
  {
   "cell_type": "code",
   "execution_count": 40,
   "metadata": {
    "executionInfo": {
     "elapsed": 783348,
     "status": "ok",
     "timestamp": 1655767002286,
     "user": {
      "displayName": "Joao Pedro Souza",
      "userId": "08820867277135559743"
     },
     "user_tz": 180
    },
    "id": "uONB2QPGBxon"
   },
   "outputs": [],
   "source": [
    "for i in range(10, X_test_tfidf.shape[0], 20):\n",
    "  prediction = np.concatenate((prediction,loaded_model.predict(X_test_tfidf[i:i+20])), axis=0)"
   ]
  },
  {
   "cell_type": "code",
   "execution_count": null,
   "metadata": {
    "colab": {
     "base_uri": "https://localhost:8080/"
    },
    "executionInfo": {
     "elapsed": 38,
     "status": "ok",
     "timestamp": 1655748919909,
     "user": {
      "displayName": "Joao Pedro Souza",
      "userId": "08820867277135559743"
     },
     "user_tz": 180
    },
    "id": "cqTo7Y3wUPY_",
    "outputId": "615b19ad-0b18-45f1-866b-3129a37ff822"
   },
   "outputs": [
    {
     "name": "stdout",
     "output_type": "stream",
     "text": [
      "              precision    recall  f1-score   support\n",
      "\n",
      "      Action       0.99      0.73      0.84      1247\n",
      "   Adventure       1.00      0.77      0.87       886\n",
      "   Animation       0.99      0.61      0.75       346\n",
      "   Biography       1.00      0.75      0.86       122\n",
      "      Comedy       0.98      0.75      0.85      1349\n",
      "       Crime       0.99      0.80      0.88      1505\n",
      " Documentary       1.00      0.15      0.25        48\n",
      "       Drama       0.90      0.98      0.94      3920\n",
      "      Family       1.00      0.68      0.81       122\n",
      "     Fantasy       1.00      0.84      0.91       660\n",
      "   Game-Show       1.00      0.81      0.90        43\n",
      "     History       1.00      0.82      0.90       158\n",
      "      Horror       0.99      0.74      0.85       460\n",
      "       Music       1.00      0.86      0.93       103\n",
      "     Musical       1.00      0.78      0.88        27\n",
      "     Mystery       0.99      0.75      0.86       942\n",
      "        News       0.00      0.00      0.00         0\n",
      "  Reality-TV       1.00      0.75      0.86        40\n",
      "     Romance       1.00      0.73      0.84       464\n",
      "      Sci-Fi       0.99      0.87      0.93       516\n",
      "       Short       0.00      0.00      0.00         3\n",
      "       Sport       0.89      0.35      0.50        23\n",
      "   Talk-Show       1.00      0.25      0.40         4\n",
      "    Thriller       0.99      0.75      0.85       577\n",
      "         War       1.00      0.60      0.75        42\n",
      "     Western       1.00      0.89      0.94        27\n",
      "\n",
      "   micro avg       0.96      0.82      0.89     13634\n",
      "   macro avg       0.91      0.65      0.74     13634\n",
      "weighted avg       0.97      0.82      0.88     13634\n",
      " samples avg       0.90      0.81      0.83     13634\n",
      "\n"
     ]
    }
   ],
   "source": [
    "print(classification_report(np.array(test[df.columns[2:]].values.tolist())[:prediction.shape[0]], prediction, target_names=df.columns[2:]))"
   ]
  },
  {
   "cell_type": "code",
   "execution_count": null,
   "metadata": {
    "id": "GpT9bF9MuqCN"
   },
   "outputs": [],
   "source": [
    "# Criando o modelo\n",
    "text_clf = Pipeline([\n",
    "     ('clf', ClassifierChain(RandomForestClassifier(random_state=42, n_jobs=-1, oob_score=True))),\n",
    " ])\n",
    "\n",
    "gs_clf = GridSearchCV(text_clf, {}, cv=5, n_jobs=-1, refit=True, verbose=1000)"
   ]
  },
  {
   "cell_type": "code",
   "execution_count": null,
   "metadata": {
    "id": "A-Zny8tauqCO"
   },
   "outputs": [],
   "source": [
    "gs_clf = gs_clf.fit(X_train_tfidf, np.array(train[df.columns[2:]].values.tolist()))"
   ]
  },
  {
   "cell_type": "code",
   "execution_count": null,
   "metadata": {
    "id": "oiHGZTJ2uqCP"
   },
   "outputs": [],
   "source": [
    "# Salvando o modelo\n",
    "joblib.dump(gs_clf.best_estimator_, f\"/content/drive/MyDrive/Trabalho final BMT/modelo/ClassifierChainRandomForestClassifier13505.pkl\")"
   ]
  },
  {
   "cell_type": "code",
   "execution_count": null,
   "metadata": {
    "id": "4LQwnWHRuqCS"
   },
   "outputs": [],
   "source": [
    "# Carregando um modelo\n",
    "loaded_model = joblib.load(f\"/content/drive/MyDrive/Trabalho final BMT/modelo/ClassifierChainRandomForestClassifier13505.pkl\")"
   ]
  },
  {
   "cell_type": "code",
   "execution_count": 25,
   "metadata": {
    "executionInfo": {
     "elapsed": 2941,
     "status": "ok",
     "timestamp": 1655778195320,
     "user": {
      "displayName": "",
      "userId": "08820867277135559743"
     },
     "user_tz": 180
    },
    "id": "P701eBgxuqCU"
   },
   "outputs": [],
   "source": [
    "prediction = loaded_model.predict(X_test_tfidf[:10])"
   ]
  },
  {
   "cell_type": "code",
   "execution_count": 55,
   "metadata": {
    "executionInfo": {
     "elapsed": 774939,
     "status": "ok",
     "timestamp": 1655772115562,
     "user": {
      "displayName": "",
      "userId": "08820867277135559743"
     },
     "user_tz": 180
    },
    "id": "MWgdeCKuuqCW"
   },
   "outputs": [],
   "source": [
    "for i in range(10, X_test_tfidf.shape[0], 20):\n",
    "  prediction = np.concatenate((prediction,loaded_model.predict(X_test_tfidf[i:i+20])), axis=0)"
   ]
  },
  {
   "cell_type": "code",
   "execution_count": null,
   "metadata": {
    "colab": {
     "base_uri": "https://localhost:8080/"
    },
    "executionInfo": {
     "elapsed": 25,
     "status": "ok",
     "timestamp": 1655749701715,
     "user": {
      "displayName": "",
      "userId": "08820867277135559743"
     },
     "user_tz": 180
    },
    "id": "gCRIBJk9uqCY",
    "outputId": "a9babc83-1384-4e93-d024-70d2466affe6"
   },
   "outputs": [
    {
     "name": "stdout",
     "output_type": "stream",
     "text": [
      "              precision    recall  f1-score   support\n",
      "\n",
      "      Action       0.99      0.73      0.84      1247\n",
      "   Adventure       1.00      0.77      0.87       886\n",
      "   Animation       0.99      0.61      0.76       346\n",
      "   Biography       1.00      0.74      0.85       122\n",
      "      Comedy       0.99      0.74      0.85      1349\n",
      "       Crime       0.99      0.81      0.89      1505\n",
      " Documentary       1.00      0.15      0.25        48\n",
      "       Drama       0.90      0.99      0.94      3920\n",
      "      Family       1.00      0.67      0.80       122\n",
      "     Fantasy       1.00      0.84      0.91       660\n",
      "   Game-Show       1.00      0.84      0.91        43\n",
      "     History       1.00      0.83      0.91       158\n",
      "      Horror       0.99      0.73      0.84       460\n",
      "       Music       1.00      0.86      0.93       103\n",
      "     Musical       1.00      0.78      0.88        27\n",
      "     Mystery       0.99      0.75      0.86       942\n",
      "        News       0.00      0.00      0.00         0\n",
      "  Reality-TV       1.00      0.78      0.87        40\n",
      "     Romance       1.00      0.73      0.84       464\n",
      "      Sci-Fi       0.99      0.86      0.92       516\n",
      "       Short       0.00      0.00      0.00         3\n",
      "       Sport       0.89      0.35      0.50        23\n",
      "   Talk-Show       1.00      0.25      0.40         4\n",
      "    Thriller       0.99      0.72      0.84       577\n",
      "         War       1.00      0.67      0.80        42\n",
      "     Western       1.00      0.89      0.94        27\n",
      "\n",
      "   micro avg       0.96      0.82      0.89     13634\n",
      "   macro avg       0.91      0.66      0.75     13634\n",
      "weighted avg       0.97      0.82      0.88     13634\n",
      " samples avg       0.89      0.81      0.83     13634\n",
      "\n"
     ]
    }
   ],
   "source": [
    "print(classification_report(np.array(test[df.columns[2:]].values.tolist())[:prediction.shape[0]], prediction, target_names=df.columns[2:]))"
   ]
  },
  {
   "cell_type": "code",
   "execution_count": null,
   "metadata": {
    "id": "ygXodfe00BMy"
   },
   "outputs": [],
   "source": [
    "# Buscando os hyperparametros\n",
    "text_clf = Pipeline([\n",
    "     ('clf', MultiOutputClassifier(RadiusNeighborsClassifier(n_jobs=-1), n_jobs=-1)),\n",
    " ])\n",
    "\n",
    "parameters = {\n",
    "    'clf__estimator__weights': ['uniform', 'distance'],\n",
    "    'clf__estimator__algorithm': ['auto', 'ball_tree', 'kd_tree', 'brute'],\n",
    "    'clf__estimator__radius': np.arange(0.7, 1.5, 0.02)\n",
    "}\n",
    "\n",
    "gs_clf = GridSearchCV(text_clf, parameters, cv=5, n_jobs=-1, refit=True, verbose=10)"
   ]
  },
  {
   "cell_type": "code",
   "execution_count": null,
   "metadata": {
    "colab": {
     "background_save": true
    },
    "id": "5hhsdHI40f9m"
   },
   "outputs": [],
   "source": [
    "# Treinando o modelo\n",
    "lim = int(X_train_tfidf.shape[0]*0.1)\n",
    "gs_clf = gs_clf.fit(X_train_tfidf[:lim], np.array(train[df.columns[2:]].values.tolist()[:lim]))"
   ]
  },
  {
   "cell_type": "code",
   "execution_count": null,
   "metadata": {
    "id": "eUQZsUFF0rhn"
   },
   "outputs": [],
   "source": [
    "for param_name in sorted(parameters.keys()):\n",
    "    print(\"%s: %r\" % (param_name, gs_clf.best_params_[param_name]))"
   ]
  },
  {
   "cell_type": "code",
   "execution_count": null,
   "metadata": {
    "id": "CUoUaVRV36c5"
   },
   "outputs": [],
   "source": [
    "# Salvando o modelo\n",
    "joblib.dump(gs_clf.best_estimator_, f\"/content/drive/MyDrive/Trabalho final BMT/modelo/RadiusNeighborsClassifier10.pkl\")"
   ]
  },
  {
   "cell_type": "code",
   "execution_count": null,
   "metadata": {
    "id": "1tsuFUHVw2Mw"
   },
   "outputs": [],
   "source": [
    "# Buscando os hyperparametros\n",
    "text_clf = Pipeline([\n",
    "     ('clf', MultiOutputClassifier(RadiusNeighborsClassifier(n_jobs=-1, algorithm = 'auto', radius=0.8, weights='distance'), n_jobs=-1)),\n",
    " ])\n",
    "\n",
    "gs_clf = GridSearchCV(text_clf, parameters, cv=5, n_jobs=-1, refit=True, verbose=10)"
   ]
  },
  {
   "cell_type": "code",
   "execution_count": null,
   "metadata": {
    "id": "u68HYkgzxNEz"
   },
   "outputs": [],
   "source": [
    "# Treinando o modelo\n",
    "gs_clf = gs_clf.fit(X_train_tfidf, np.array(train[df.columns[2:]].values.tolist()))"
   ]
  },
  {
   "cell_type": "code",
   "execution_count": null,
   "metadata": {
    "id": "fWJSqMuixTGH"
   },
   "outputs": [],
   "source": [
    "# Salvando o modelo\n",
    "joblib.dump(gs_clf.best_estimator_, f\"/content/drive/MyDrive/Trabalho final BMT/modelo/RadiusNeighborsClassifier{X_train_tfidf.shape[0]}.pkl\")"
   ]
  },
  {
   "cell_type": "code",
   "execution_count": 26,
   "metadata": {
    "executionInfo": {
     "elapsed": 18005,
     "status": "ok",
     "timestamp": 1655778221219,
     "user": {
      "displayName": "Joao Pedro Souza",
      "userId": "08820867277135559743"
     },
     "user_tz": 180
    },
    "id": "zxbycKtDxa-4"
   },
   "outputs": [],
   "source": [
    "# Carregando um modelo\n",
    "loaded_model = joblib.load('/content/drive/MyDrive/Trabalho final BMT/modelo/RadiusNeighborsClassifier13505.pkl')"
   ]
  },
  {
   "cell_type": "code",
   "execution_count": 27,
   "metadata": {
    "executionInfo": {
     "elapsed": 15489,
     "status": "ok",
     "timestamp": 1655778236676,
     "user": {
      "displayName": "Joao Pedro Souza",
      "userId": "08820867277135559743"
     },
     "user_tz": 180
    },
    "id": "Oi6toeCMD43J"
   },
   "outputs": [],
   "source": [
    "prediction = loaded_model.predict(X_test_tfidf[:10])"
   ]
  },
  {
   "cell_type": "code",
   "execution_count": 48,
   "metadata": {
    "executionInfo": {
     "elapsed": 1792890,
     "status": "ok",
     "timestamp": 1655769624623,
     "user": {
      "displayName": "Joao Pedro Souza",
      "userId": "08820867277135559743"
     },
     "user_tz": 180
    },
    "id": "ksMyfSrox1eA"
   },
   "outputs": [],
   "source": [
    "limite = X_test_tfidf.shape[0]\n",
    "prediction = loaded_model.predict(X_test_tfidf[:limite])"
   ]
  },
  {
   "cell_type": "code",
   "execution_count": 14,
   "metadata": {
    "colab": {
     "base_uri": "https://localhost:8080/"
    },
    "executionInfo": {
     "elapsed": 29,
     "status": "ok",
     "timestamp": 1655754141589,
     "user": {
      "displayName": "Joao Pedro Souza",
      "userId": "08820867277135559743"
     },
     "user_tz": 180
    },
    "id": "GBJW9m3Bx5WY",
    "outputId": "6f89b938-067c-4743-e4bb-c7e4fc922881"
   },
   "outputs": [
    {
     "name": "stdout",
     "output_type": "stream",
     "text": [
      "              precision    recall  f1-score   support\n",
      "\n",
      "      Action       1.00      0.42      0.59      1247\n",
      "   Adventure       1.00      0.45      0.62       886\n",
      "   Animation       0.99      0.36      0.52       346\n",
      "   Biography       1.00      0.41      0.58       122\n",
      "      Comedy       1.00      0.43      0.60      1349\n",
      "       Crime       1.00      0.49      0.66      1505\n",
      " Documentary       1.00      0.08      0.15        48\n",
      "       Drama       0.78      1.00      0.87      3920\n",
      "      Family       1.00      0.37      0.54       122\n",
      "     Fantasy       1.00      0.51      0.67       660\n",
      "   Game-Show       1.00      0.53      0.70        43\n",
      "     History       1.00      0.42      0.60       158\n",
      "      Horror       0.99      0.47      0.64       460\n",
      "       Music       1.00      0.50      0.66       103\n",
      "     Musical       1.00      0.44      0.62        27\n",
      "     Mystery       0.99      0.51      0.67       942\n",
      "        News       0.00      0.00      0.00         0\n",
      "  Reality-TV       1.00      0.45      0.62        40\n",
      "     Romance       0.99      0.38      0.55       464\n",
      "      Sci-Fi       0.99      0.46      0.63       516\n",
      "       Short       0.00      0.00      0.00         3\n",
      "       Sport       0.88      0.30      0.45        23\n",
      "   Talk-Show       1.00      0.25      0.40         4\n",
      "    Thriller       0.99      0.45      0.62       577\n",
      "         War       1.00      0.36      0.53        42\n",
      "     Western       1.00      0.41      0.58        27\n",
      "\n",
      "   micro avg       0.88      0.61      0.72     13634\n",
      "   macro avg       0.91      0.40      0.54     13634\n",
      "weighted avg       0.93      0.61      0.69     13634\n",
      " samples avg       0.80      0.61      0.66     13634\n",
      "\n"
     ]
    }
   ],
   "source": [
    "print(classification_report(np.array(test[df.columns[2:]].values.tolist()[:limite]), prediction, target_names=df.columns[2:]))"
   ]
  },
  {
   "cell_type": "code",
   "execution_count": null,
   "metadata": {
    "id": "bTnTY2oX1KOe"
   },
   "outputs": [],
   "source": [
    "text_clf = Pipeline([\n",
    "     ('clf', ClassifierChain(RadiusNeighborsClassifier(n_jobs=-1, algorithm = 'auto', radius=0.8, weights='distance'))),\n",
    " ])\n",
    "\n",
    "gs_clf = GridSearchCV(text_clf, {}, cv=5, n_jobs=-1, refit=True, verbose=10)"
   ]
  },
  {
   "cell_type": "code",
   "execution_count": null,
   "metadata": {
    "id": "ZquhQ2PZyH6k"
   },
   "outputs": [],
   "source": [
    "# Treinando o modelo\n",
    "gs_clf = gs_clf.fit(X_train_tfidf, np.array(train[df.columns[2:]].values.tolist()))"
   ]
  },
  {
   "cell_type": "code",
   "execution_count": null,
   "metadata": {
    "id": "WGWtvXL_yKao"
   },
   "outputs": [],
   "source": [
    "# Salvando o modelo\n",
    "joblib.dump(gs_clf.best_estimator_, f\"/content/drive/MyDrive/Trabalho final BMT/modelo/ClassifierChainRadiusNeighborsClassifier{X_train_tfidf.shape[0]}.pkl\")"
   ]
  },
  {
   "cell_type": "code",
   "execution_count": 28,
   "metadata": {
    "executionInfo": {
     "elapsed": 35936,
     "status": "ok",
     "timestamp": 1655778272604,
     "user": {
      "displayName": "Joao Pedro Souza",
      "userId": "08820867277135559743"
     },
     "user_tz": 180
    },
    "id": "_NmCVPQQyRGb"
   },
   "outputs": [],
   "source": [
    "# Carregando um modelo\n",
    "loaded_model = joblib.load('/content/drive/MyDrive/Trabalho final BMT/modelo/ClassifierChainRadiusNeighborsClassifier13505.pkl')"
   ]
  },
  {
   "cell_type": "code",
   "execution_count": 29,
   "metadata": {
    "executionInfo": {
     "elapsed": 17076,
     "status": "ok",
     "timestamp": 1655778289673,
     "user": {
      "displayName": "Joao Pedro Souza",
      "userId": "08820867277135559743"
     },
     "user_tz": 180
    },
    "id": "Zkw0mlr8D-wd"
   },
   "outputs": [],
   "source": [
    "prediction = loaded_model.predict(X_test_tfidf[:10])"
   ]
  },
  {
   "cell_type": "code",
   "execution_count": 51,
   "metadata": {
    "executionInfo": {
     "elapsed": 1689574,
     "status": "ok",
     "timestamp": 1655771334699,
     "user": {
      "displayName": "Joao Pedro Souza",
      "userId": "08820867277135559743"
     },
     "user_tz": 180
    },
    "id": "I36gcXsu032Q"
   },
   "outputs": [],
   "source": [
    "limite = X_test_tfidf.shape[0]\n",
    "prediction = loaded_model.predict(X_test_tfidf[:limite])"
   ]
  },
  {
   "cell_type": "code",
   "execution_count": 17,
   "metadata": {
    "colab": {
     "base_uri": "https://localhost:8080/"
    },
    "executionInfo": {
     "elapsed": 38,
     "status": "ok",
     "timestamp": 1655755818751,
     "user": {
      "displayName": "Joao Pedro Souza",
      "userId": "08820867277135559743"
     },
     "user_tz": 180
    },
    "id": "yZ5qUsVmyUA5",
    "outputId": "da9ce282-2b96-4d2c-de1a-d697d290fffc"
   },
   "outputs": [
    {
     "name": "stdout",
     "output_type": "stream",
     "text": [
      "              precision    recall  f1-score   support\n",
      "\n",
      "      Action       1.00      0.42      0.59      1247\n",
      "   Adventure       1.00      0.45      0.62       886\n",
      "   Animation       0.99      0.36      0.52       346\n",
      "   Biography       1.00      0.41      0.58       122\n",
      "      Comedy       1.00      0.43      0.60      1349\n",
      "       Crime       1.00      0.49      0.66      1505\n",
      " Documentary       1.00      0.08      0.15        48\n",
      "       Drama       0.78      1.00      0.87      3920\n",
      "      Family       1.00      0.37      0.54       122\n",
      "     Fantasy       1.00      0.51      0.67       660\n",
      "   Game-Show       1.00      0.53      0.70        43\n",
      "     History       1.00      0.42      0.60       158\n",
      "      Horror       0.99      0.47      0.64       460\n",
      "       Music       1.00      0.50      0.66       103\n",
      "     Musical       1.00      0.44      0.62        27\n",
      "     Mystery       0.99      0.51      0.67       942\n",
      "        News       0.00      0.00      0.00         0\n",
      "  Reality-TV       1.00      0.45      0.62        40\n",
      "     Romance       0.99      0.38      0.55       464\n",
      "      Sci-Fi       0.99      0.46      0.63       516\n",
      "       Short       0.00      0.00      0.00         3\n",
      "       Sport       0.88      0.30      0.45        23\n",
      "   Talk-Show       1.00      0.25      0.40         4\n",
      "    Thriller       0.99      0.45      0.62       577\n",
      "         War       1.00      0.36      0.53        42\n",
      "     Western       1.00      0.41      0.58        27\n",
      "\n",
      "   micro avg       0.88      0.61      0.72     13634\n",
      "   macro avg       0.91      0.40      0.54     13634\n",
      "weighted avg       0.93      0.61      0.69     13634\n",
      " samples avg       0.80      0.61      0.66     13634\n",
      "\n"
     ]
    }
   ],
   "source": [
    "print(classification_report(np.array(test[df.columns[2:]].values.tolist()[:limite]), prediction, target_names=df.columns[2:]))"
   ]
  },
  {
   "cell_type": "code",
   "execution_count": null,
   "metadata": {
    "id": "XQiVFAn_zngu"
   },
   "outputs": [],
   "source": []
  }
 ],
 "metadata": {
  "colab": {
   "authorship_tag": "ABX9TyPpAqgfU8bXvNqnauWfwqLy",
   "collapsed_sections": [],
   "name": "Modelos.ipynb",
   "provenance": []
  },
  "kernelspec": {
   "display_name": "Python 3",
   "language": "python",
   "name": "python3"
  },
  "language_info": {
   "codemirror_mode": {
    "name": "ipython",
    "version": 3
   },
   "file_extension": ".py",
   "mimetype": "text/x-python",
   "name": "python",
   "nbconvert_exporter": "python",
   "pygments_lexer": "ipython3",
   "version": "3.8.5"
  }
 },
 "nbformat": 4,
 "nbformat_minor": 1
}
